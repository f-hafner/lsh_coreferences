{
 "cells": [
  {
   "attachments": {},
   "cell_type": "markdown",
   "metadata": {},
   "source": [
    "# Performance of LSH for coreferences"
   ]
  },
  {
   "cell_type": "code",
   "execution_count": 1,
   "metadata": {},
   "outputs": [],
   "source": [
    "from load_coreferences import load_coreferences, load_pairs\n",
    "# import lsh \n",
    "from REL import lsh \n",
    "import copy\n",
    "import numpy as np\n",
    "import time \n",
    "import matplotlib.pyplot as plt\n",
    "\n",
    "import cProfile\n",
    "\n",
    "scaling_factor = 5 # multiply size the original data set by this factor"
   ]
  },
  {
   "cell_type": "code",
   "execution_count": 2,
   "metadata": {},
   "outputs": [],
   "source": [
    "all_pairs = load_pairs()\n",
    "raw_mentions = load_coreferences()\n",
    "mentions = {i: m for i, m in enumerate(raw_mentions)}\n"
   ]
  },
  {
   "attachments": {},
   "cell_type": "markdown",
   "metadata": {},
   "source": [
    "#### Effectiveness"
   ]
  },
  {
   "cell_type": "code",
   "execution_count": 3,
   "metadata": {},
   "outputs": [],
   "source": [
    "def evaluate_coref_predictions(pairs_gold, candidates, _return = False):\n",
    "    \"Precision and recall for LSH coref pair search\"\n",
    "    missed = 0 \n",
    "    correct = 0 \n",
    "    wrong = 0\n",
    "\n",
    "    for mention, true_reference in pairs_gold.items():\n",
    "        current_candidates = candidates[mention]\n",
    "\n",
    "        if true_reference not in current_candidates:\n",
    "            missed += 1\n",
    "        for candidate in current_candidates:\n",
    "            if candidate == true_reference:\n",
    "                correct += 1\n",
    "            elif candidate != true_reference:\n",
    "                wrong += 1\n",
    "\n",
    "\n",
    "    precision = correct / (correct + wrong)\n",
    "    recall = correct / (correct + missed)\n",
    "\n",
    "    ndig = 3\n",
    "    if not _return:\n",
    "        print(f\"Precision: {round(precision, ndig)}\") # note: lower precision means larger comparison set for coref classification.\n",
    "        print(f\"Recall: {round(recall, ndig)}\") \n",
    "    else:\n",
    "        return (precision, recall)"
   ]
  },
  {
   "cell_type": "code",
   "execution_count": 4,
   "metadata": {},
   "outputs": [],
   "source": [
    "pairs_gold = {}\n",
    "for pair_doc in all_pairs.values():\n",
    "    for p in pair_doc:\n",
    "        pairs_gold[p[1]] = p[0] # key = mention, value = true coreference\n",
    "\n"
   ]
  },
  {
   "attachments": {},
   "cell_type": "markdown",
   "metadata": {},
   "source": [
    "Make signature with a while loop "
   ]
  },
  {
   "cell_type": "code",
   "execution_count": 9,
   "metadata": {},
   "outputs": [
    {
     "name": "stdout",
     "output_type": "stream",
     "text": [
      "no limit \n",
      "-------\n",
      "took 0.027411460876464844 seconds for 174 mentions\n",
      "average, min, max cluster size: 25.57, 8, 47\n",
      "Precision: 0.038\n",
      "Recall: 0.966\n"
     ]
    }
   ],
   "source": [
    "mylsh = lsh.LSHMinHash(mentions=mentions, shingle_size=2, signature_size=800, band_length=10) # shingle size 2, signature size 800, band length 10\n",
    "\n",
    "mylsh.cluster(candidates=\"new\")\n",
    "mylsh.summarise()\n",
    "candidates = {mention: [mentions[i] for i in mylsh.candidates[idx]] for idx, mention in mentions.items()}\n",
    "\n",
    "evaluate_coref_predictions(pairs_gold, candidates)\n",
    "\n"
   ]
  },
  {
   "attachments": {},
   "cell_type": "markdown",
   "metadata": {},
   "source": [
    "Properties    \n",
    "- longer signature $\\rightarrow$ higher recall, lower precision\n",
    "- larger shingle $\\rightarrow$ lower recall, higher precision\n",
    "- longer band $\\rightarrow$ lower recall, higher precision\n"
   ]
  },
  {
   "cell_type": "code",
   "execution_count": 10,
   "metadata": {},
   "outputs": [],
   "source": [
    "\n",
    "# old approach \n",
    "max_signature_size = 1500\n",
    "min_signature_size = 100\n",
    "# band_lengths = [2, 3, 4] # varying band lengths gives not strictly increasing ROC curve\n",
    "band_lengths = [15]\n",
    "shingle_sizes = [2,3,4]\n",
    "\n",
    "measure_dict = {}\n",
    "\n",
    "for shingle_size in shingle_sizes:\n",
    "    l = band_lengths[0]\n",
    "    measurements = []\n",
    "    start_size = min_signature_size - (min_signature_size % l) + l # start at next multiple of l\n",
    "    for s in range(start_size, max_signature_size, l):\n",
    "        mylsh = lsh.LSHMinHash(mentions=mentions, shingle_size=shingle_size, signature_size=s, band_length=l)\n",
    "\n",
    "        mylsh.cluster()\n",
    "        candidates = {mention: [mentions[i] for i in mylsh.candidates[idx]]  for idx, mention in mentions.items()}\n",
    "\n",
    "        m = evaluate_coref_predictions(pairs_gold, candidates, _return=True)\n",
    "        out = m + (s,)\n",
    "        measurements.append(out)\n",
    "    measure_dict[shingle_size] = measurements\n"
   ]
  },
  {
   "cell_type": "code",
   "execution_count": 22,
   "metadata": {},
   "outputs": [],
   "source": [
    "\n",
    "# old approach \n",
    "max_signature_size = 2000\n",
    "min_signature_size = 20\n",
    "# band_lengths = [2, 3, 4] # varying band lengths gives not strictly increasing ROC curve\n",
    "band_lengths = [15]\n",
    "shingle_sizes = [2,3,4]\n",
    "\n",
    "measure_dict = {}\n",
    "\n",
    "for shingle_size in shingle_sizes:\n",
    "    l = band_lengths[0]\n",
    "    measurements = []\n",
    "    start_size = min_signature_size - (min_signature_size % l) + l # start at next multiple of l\n",
    "    for s in range(start_size, max_signature_size, 4*l):\n",
    "        mylsh = lsh.LSHMinHash(mentions=mentions, shingle_size=shingle_size, signature_size=s, band_length=l)\n",
    "\n",
    "        mylsh.cluster(candidates=\"new\")\n",
    "        candidates = {mention: [mentions[i] for i in mylsh.candidates[idx]]  for idx, mention in mentions.items()}\n",
    "\n",
    "        m = evaluate_coref_predictions(pairs_gold, candidates, _return=True)\n",
    "        out = m + (s,)\n",
    "        measurements.append(out)\n",
    "    measure_dict[shingle_size] = measurements"
   ]
  },
  {
   "cell_type": "code",
   "execution_count": 23,
   "metadata": {},
   "outputs": [],
   "source": [
    "md = {k: [\n",
    "    [1 - i[0] for i in measures], # fpr\n",
    "    [i[1] for i in measures], # recall,\n",
    "    [i[2] for i in measures] # signature size\n",
    "] for k, measures in measure_dict.items()}\n"
   ]
  },
  {
   "cell_type": "code",
   "execution_count": 24,
   "metadata": {},
   "outputs": [
    {
     "data": {
      "text/plain": [
       "<matplotlib.legend.Legend at 0x7f5c00b9b4c0>"
      ]
     },
     "execution_count": 24,
     "metadata": {},
     "output_type": "execute_result"
    },
    {
     "data": {
      "image/png": "[encoded data removed]",
      "text/plain": [
       "<Figure size 640x480 with 1 Axes>"
      ]
     },
     "metadata": {},
     "output_type": "display_data"
    }
   ],
   "source": [
    "fig, ax = plt.subplots()\n",
    "for k, v in md.items():\n",
    "    lbl = f\"shingle size {k}\"\n",
    "    ax.scatter(x=v[0], y=v[1], label=lbl)\n",
    "\n",
    "ax.set_xlabel(\"False positive rate\")\n",
    "ax.set_ylabel(\"Recall\")\n",
    "ax.set_title(\"ROC\")\n",
    "ax.legend()"
   ]
  },
  {
   "cell_type": "code",
   "execution_count": 25,
   "metadata": {},
   "outputs": [
    {
     "name": "stderr",
     "output_type": "stream",
     "text": [
      "/tmp/ipykernel_5785/2962560467.py:5: RuntimeWarning: invalid value encountered in divide\n",
      "  fscore = 2 * precision * recall / (precision + recall)\n"
     ]
    },
    {
     "data": {
      "text/plain": [
       "<matplotlib.legend.Legend at 0x7f5c00939fd0>"
      ]
     },
     "execution_count": 25,
     "metadata": {},
     "output_type": "execute_result"
    },
    {
     "data": {
      "image/png": "[encoded data removed]",
      "text/plain": [
       "<Figure size 640x480 with 1 Axes>"
      ]
     },
     "metadata": {},
     "output_type": "display_data"
    }
   ],
   "source": [
    "fig, ax = plt.subplots()\n",
    "for k, v in md.items():\n",
    "    precision = np.array([1-i for i in v[0]])\n",
    "    recall = np.array([i for i in v[1]])\n",
    "    fscore = 2 * precision * recall / (precision + recall)\n",
    "    lbl = f\"shingle size {k}\"\n",
    "    ax.scatter(y=fscore, x=v[2], label=lbl)\n",
    "\n",
    "ax.set_ylabel(\"F-score\")\n",
    "ax.set_xlabel(\"Signature size\")\n",
    "ax.legend()"
   ]
  },
  {
   "attachments": {},
   "cell_type": "markdown",
   "metadata": {},
   "source": [
    "Notes \n",
    "- trade off: get the same recall for smaller false positive rate with larger shingle size, but need a larger signature and thus more time \n",
    "    - improve the calculation of the signature?\n",
    "    - another benefit however is that with a smaller false positive rate, the `with_coref` call in REL will be faster (smaller comparison sets)\n",
    "    - also important: higher false positive rate means more comparisons also for those mentions that are *not* coreferences (and are not in the present dataset).\n",
    "    - check again the time complexity of this -- signature length of 300 may not be feasible/lead to long computing time when data set is a few thousands of mentions\n",
    "- add color shading for shingle size? --\n",
    "- the can look like they have a negative slope (particularly for shingle size 4). Not sure why. Also happened when I varied the band lengths. does it have to do with the ordering of the input to the plot? "
   ]
  },
  {
   "attachments": {},
   "cell_type": "markdown",
   "metadata": {},
   "source": [
    "#### Profiling"
   ]
  },
  {
   "cell_type": "code",
   "execution_count": 29,
   "metadata": {},
   "outputs": [],
   "source": [
    "\n",
    "# stack mentions on top of each other \n",
    "mentions_scaled = copy.copy(mentions)\n",
    "\n",
    "idx = len(mentions_scaled)\n",
    "for i in range(1, scaling_factor):\n",
    "    for idx_old in mentions.keys():\n",
    "        m = mentions[idx_old]\n",
    "        mentions_scaled[idx] = m \n",
    "        idx += 1"
   ]
  },
  {
   "attachments": {},
   "cell_type": "markdown",
   "metadata": {},
   "source": [
    "## some tests to be put to REL. see the lsh.py class for the function definition. "
   ]
  },
  {
   "attachments": {},
   "cell_type": "markdown",
   "metadata": {},
   "source": [
    "test for `cols_to_int` (?). need to check the details; not sure anymore this remains relevant. it is for sorting multidimensional array along one axis"
   ]
  },
  {
   "cell_type": "code",
   "execution_count": 6,
   "metadata": {},
   "outputs": [
    {
     "data": {
      "text/plain": [
       "array([[3, 4],\n",
       "       [3, 5],\n",
       "       [5, 6],\n",
       "       [3, 4],\n",
       "       [6, 7]])"
      ]
     },
     "metadata": {},
     "output_type": "display_data"
    },
    {
     "data": {
      "text/plain": [
       "array([[0, 0],\n",
       "       [1, 3],\n",
       "       [3, 1],\n",
       "       [2, 2],\n",
       "       [4, 4]])"
      ]
     },
     "metadata": {},
     "output_type": "display_data"
    },
    {
     "data": {
      "text/plain": [
       "array([[0],\n",
       "       [3],\n",
       "       [1],\n",
       "       [2],\n",
       "       [4]])"
      ]
     },
     "metadata": {},
     "output_type": "display_data"
    },
    {
     "data": {
      "text/plain": [
       "array([[1, 3],\n",
       "       [2, 2],\n",
       "       [2, 2],\n",
       "       [1, 3],\n",
       "       [1, 5],\n",
       "       [1, 1]])"
      ]
     },
     "metadata": {},
     "output_type": "display_data"
    },
    {
     "data": {
      "text/plain": [
       "array([[0, 5],\n",
       "       [3, 1],\n",
       "       [4, 2],\n",
       "       [5, 0],\n",
       "       [1, 3],\n",
       "       [2, 4]])"
      ]
     },
     "metadata": {},
     "output_type": "display_data"
    },
    {
     "data": {
      "text/plain": [
       "array([[5],\n",
       "       [1],\n",
       "       [2],\n",
       "       [0],\n",
       "       [3],\n",
       "       [4]])"
      ]
     },
     "metadata": {},
     "output_type": "display_data"
    }
   ],
   "source": [
    "x = np.array([[0, 3], [2, 2], [2, 2], [0, 3]]) \n",
    "x = np.array([[1, 3], [2, 2], [2, 2], [1, 3], [1, 5], [1, 1]]) # this is one test case\n",
    "A = np.array([[3,4], [3,5], [5,6], [3,4], [6,7]]) # this is another test case\n",
    "\n",
    "display(A)\n",
    "display(np.argsort(A, axis=0))\n",
    "display(A.view('i8,i8').argsort(order=['f1'], axis=0))\n",
    "\n",
    "display(x)\n",
    "display(np.argsort(x, axis=0))\n",
    "display(x.view('i8,i8').argsort(order=['f1'], axis=0))\n"
   ]
  },
  {
   "attachments": {},
   "cell_type": "markdown",
   "metadata": {},
   "source": [
    "test for `vectorize_signature_bands`"
   ]
  },
  {
   "cell_type": "code",
   "execution_count": 312,
   "metadata": {},
   "outputs": [],
   "source": [
    "## test \n",
    "a = np.array([[1, 4, 7, 8, 10, 8], [5, 3, 2, 6, 11, 0], [1, 4, 2, 6, 13, 15]])\n",
    "\n",
    "n_bands = 2\n",
    "n_items = a.shape[0]\n",
    "band_length = int(a.shape[1]/n_bands)\n",
    "result = vectorize_signature_bands(a, n_bands=n_bands, band_length=band_length)\n",
    "\n",
    "expected = np.vstack(np.split(a, n_bands, axis=1)).reshape(n_bands, n_items, -1)\n",
    "\n",
    "assert np.all(result == expected), \"signature bands not vectorized correctly\"\n",
    "\n"
   ]
  },
  {
   "attachments": {},
   "cell_type": "markdown",
   "metadata": {},
   "source": [
    "test for `group_unique_indices`. "
   ]
  },
  {
   "cell_type": "code",
   "execution_count": 504,
   "metadata": {},
   "outputs": [
    {
     "data": {
      "text/plain": [
       "array([[[1, 4],\n",
       "        [1, 4],\n",
       "        [5, 3]],\n",
       "\n",
       "       [[7, 8],\n",
       "        [2, 7],\n",
       "        [2, 6]]])"
      ]
     },
     "metadata": {},
     "output_type": "display_data"
    },
    {
     "data": {
      "text/plain": [
       "array([[[1, 4],\n",
       "        [1, 4],\n",
       "        [5, 3]],\n",
       "\n",
       "       [[7, 8],\n",
       "        [2, 7],\n",
       "        [2, 6]]])"
      ]
     },
     "metadata": {},
     "output_type": "display_data"
    },
    {
     "data": {
      "text/plain": [
       "[[array([0, 1]), array([2])], [array([2]), array([1]), array([0])]]"
      ]
     },
     "execution_count": 504,
     "metadata": {},
     "output_type": "execute_result"
    }
   ],
   "source": [
    "a = np.array([[1, 4, 7, 8], [1, 4, 2, 7], [5, 3, 2, 6]])\n",
    "n_bands = 2\n",
    "n_items = a.shape[0]\n",
    "band_length = int(a.shape[1]/n_bands)\n",
    "a = vectorize_signature_bands(a, n_bands=n_bands, band_length=band_length)\n",
    "\n",
    "# print(\"a before cols_to_int:\")\n",
    "display(a)\n",
    "# print(\"after:\")\n",
    "# a = cols_to_int_multidim(a)\n",
    "display(a)\n",
    "a = group_unique_indices(a)\n",
    "a"
   ]
  }
 ],
 "metadata": {
  "kernelspec": {
   "display_name": "Python 3",
   "language": "python",
   "name": "python3"
  },
  "language_info": {
   "codemirror_mode": {
    "name": "ipython",
    "version": 3
   },
   "file_extension": ".py",
   "mimetype": "text/x-python",
   "name": "python",
   "nbconvert_exporter": "python",
   "pygments_lexer": "ipython3",
   "version": "3.9.15"
  },
  "orig_nbformat": 4,
  "vscode": {
   "interpreter": {
    "hash": "541f9b2bd2e07a99fbe19519917a2a847d7149d43292ee48064a4037dd0b7699"
   }
  }
 },
 "nbformat": 4,
 "nbformat_minor": 2
}
