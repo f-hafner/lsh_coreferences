{
 "cells": [
  {
   "attachments": {},
   "cell_type": "markdown",
   "metadata": {},
   "source": [
    "# Performance of LSH for coreferences"
   ]
  },
  {
   "cell_type": "code",
   "execution_count": 1,
   "metadata": {},
   "outputs": [],
   "source": [
    "from load_coreferences import load_coreferences, load_pairs\n",
    "# import lsh \n",
    "from REL import lsh \n",
    "import copy\n",
    "import numpy as np\n",
    "import time \n",
    "import matplotlib.pyplot as plt\n",
    "\n",
    "import cProfile\n",
    "\n",
    "scaling_factor = 5 # multiply size the original data set by this factor"
   ]
  },
  {
   "cell_type": "code",
   "execution_count": 2,
   "metadata": {},
   "outputs": [],
   "source": [
    "all_pairs = load_pairs()\n",
    "raw_mentions = load_coreferences()\n",
    "mentions = {i: m for i, m in enumerate(raw_mentions)}\n"
   ]
  },
  {
   "attachments": {},
   "cell_type": "markdown",
   "metadata": {},
   "source": [
    "#### Effectiveness"
   ]
  },
  {
   "cell_type": "code",
   "execution_count": 3,
   "metadata": {},
   "outputs": [],
   "source": [
    "def evaluate_coref_predictions(pairs_gold, candidates, _return = False):\n",
    "    \"Precision and recall for LSH coref pair search\"\n",
    "    missed = 0 \n",
    "    correct = 0 \n",
    "    wrong = 0\n",
    "\n",
    "    for mention, true_reference in pairs_gold.items():\n",
    "        current_candidates = candidates[mention]\n",
    "\n",
    "        if true_reference not in current_candidates:\n",
    "            missed += 1\n",
    "        for candidate in current_candidates:\n",
    "            if candidate == true_reference:\n",
    "                correct += 1\n",
    "            elif candidate != true_reference:\n",
    "                wrong += 1\n",
    "\n",
    "\n",
    "    precision = correct / (correct + wrong)\n",
    "    recall = correct / (correct + missed)\n",
    "\n",
    "    ndig = 3\n",
    "    if not _return:\n",
    "        print(f\"Precision: {round(precision, ndig)}\") # note: lower precision means larger comparison set for coref classification.\n",
    "        print(f\"Recall: {round(recall, ndig)}\") \n",
    "    else:\n",
    "        return (precision, recall)"
   ]
  },
  {
   "cell_type": "code",
   "execution_count": 4,
   "metadata": {},
   "outputs": [],
   "source": [
    "pairs_gold = {}\n",
    "for pair_doc in all_pairs.values():\n",
    "    for p in pair_doc:\n",
    "        pairs_gold[p[1]] = p[0] # key = mention, value = true coreference\n",
    "\n"
   ]
  },
  {
   "attachments": {},
   "cell_type": "markdown",
   "metadata": {},
   "source": [
    "Make signature with a while loop "
   ]
  },
  {
   "cell_type": "code",
   "execution_count": 5,
   "metadata": {},
   "outputs": [
    {
     "name": "stdout",
     "output_type": "stream",
     "text": [
      "took 0.06291317939758301 seconds for 174 mentions\n",
      "average, min, max cluster size: 23.55, 10, 41\n",
      "Precision: 0.04\n",
      "Recall: 0.943\n"
     ]
    }
   ],
   "source": [
    "mylsh = lsh.LSHMinHash(mentions=mentions, shingle_size=2, signature_size=800, band_length=10)\n",
    "\n",
    "mylsh.cluster()\n",
    "mylsh.summarise()\n",
    "candidates = {mention: [mentions[i] for i in mylsh.candidates[idx]]  for idx, mention in mentions.items()}\n",
    "\n",
    "evaluate_coref_predictions(pairs_gold, candidates)\n"
   ]
  },
  {
   "attachments": {},
   "cell_type": "markdown",
   "metadata": {},
   "source": [
    "Make signature with vectorized approach"
   ]
  },
  {
   "cell_type": "code",
   "execution_count": 6,
   "metadata": {},
   "outputs": [
    {
     "ename": "ValueError",
     "evalue": "cannot reshape array of size 800 into shape (800,174,310)",
     "output_type": "error",
     "traceback": [
      "\u001b[0;31m---------------------------------------------------------------------------\u001b[0m",
      "\u001b[0;31mValueError\u001b[0m                                Traceback (most recent call last)",
      "Cell \u001b[0;32mIn[6], line 1\u001b[0m\n\u001b[0;32m----> 1\u001b[0m mylsh\u001b[39m.\u001b[39;49mcluster(numpy_signature\u001b[39m=\u001b[39;49m\u001b[39mTrue\u001b[39;49;00m)\n\u001b[1;32m      2\u001b[0m mylsh\u001b[39m.\u001b[39msummarise()\n\u001b[1;32m      3\u001b[0m candidates \u001b[39m=\u001b[39m {mention: [mentions[i] \u001b[39mfor\u001b[39;00m i \u001b[39min\u001b[39;00m mylsh\u001b[39m.\u001b[39mcandidates[idx]]  \u001b[39mfor\u001b[39;00m idx, mention \u001b[39min\u001b[39;00m mentions\u001b[39m.\u001b[39mitems()}\n",
      "File \u001b[0;32m~/projects/rel20/REL/src/REL/lsh.py:265\u001b[0m, in \u001b[0;36mLSHMinHash.cluster\u001b[0;34m(self, numpy_signature)\u001b[0m\n\u001b[1;32m    263\u001b[0m \u001b[39melse\u001b[39;00m:\n\u001b[1;32m    264\u001b[0m     \u001b[39mif\u001b[39;00m numpy_signature:\n\u001b[0;32m--> 265\u001b[0m         \u001b[39mself\u001b[39;49m\u001b[39m.\u001b[39;49mmake_signature_np()\n\u001b[1;32m    266\u001b[0m     \u001b[39melse\u001b[39;00m:\n\u001b[1;32m    267\u001b[0m         \u001b[39mself\u001b[39m\u001b[39m.\u001b[39mmake_signature()\n",
      "File \u001b[0;32m~/projects/rel20/REL/src/REL/lsh.py:214\u001b[0m, in \u001b[0;36mLSHMinHash.make_signature_np\u001b[0;34m(self)\u001b[0m\n\u001b[1;32m    213\u001b[0m \u001b[39mdef\u001b[39;00m \u001b[39mmake_signature_np\u001b[39m(\u001b[39mself\u001b[39m):\n\u001b[0;32m--> 214\u001b[0m     signature \u001b[39m=\u001b[39m minhash_signature_np(\u001b[39mself\u001b[39;49m\u001b[39m.\u001b[39;49mvectors, \u001b[39mself\u001b[39;49m\u001b[39m.\u001b[39;49msignature_size)\n\u001b[1;32m    215\u001b[0m     \u001b[39mself\u001b[39m\u001b[39m.\u001b[39msignature \u001b[39m=\u001b[39m signature \u001b[39m+\u001b[39m np\u001b[39m.\u001b[39mones(signature\u001b[39m.\u001b[39mshape)\n",
      "File \u001b[0;32m~/projects/rel20/REL/src/REL/lsh.py:88\u001b[0m, in \u001b[0;36mminhash_signature_np\u001b[0;34m(x, n_reps)\u001b[0m\n\u001b[1;32m     86\u001b[0m \u001b[39m# expand by n_reps \u001b[39;00m\n\u001b[1;32m     87\u001b[0m indices_mult \u001b[39m=\u001b[39m np\u001b[39m.\u001b[39mtile(indices, (n_reps, \u001b[39m1\u001b[39m)) \u001b[39m# reorder the columns n_reps times \u001b[39;00m\n\u001b[0;32m---> 88\u001b[0m x_mult \u001b[39m=\u001b[39m np\u001b[39m.\u001b[39;49mtile(x, (n_reps, \u001b[39m1\u001b[39;49m))\u001b[39m.\u001b[39;49mreshape((n_reps,) \u001b[39m+\u001b[39;49m x\u001b[39m.\u001b[39;49mshape) \u001b[39m# new shape: (n_resp, x.shape[0], x.shape[1\u001b[39;00m\n\u001b[1;32m     90\u001b[0m \u001b[39m# permute indices and apply to x_mult\u001b[39;00m\n\u001b[1;32m     91\u001b[0m permuted_indices \u001b[39m=\u001b[39m rng\u001b[39m.\u001b[39mpermuted(indices_mult, axis\u001b[39m=\u001b[39m\u001b[39m1\u001b[39m)\n",
      "\u001b[0;31mValueError\u001b[0m: cannot reshape array of size 800 into shape (800,174,310)"
     ]
    }
   ],
   "source": [
    "mylsh.cluster(numpy_signature=True)\n",
    "mylsh.summarise()\n",
    "candidates = {mention: [mentions[i] for i in mylsh.candidates[idx]]  for idx, mention in mentions.items()}\n",
    "\n",
    "evaluate_coref_predictions(pairs_gold, candidates)"
   ]
  },
  {
   "attachments": {},
   "cell_type": "markdown",
   "metadata": {},
   "source": [
    "Properties    \n",
    "- longer signature $\\rightarrow$ higher recall, lower precision\n",
    "- larger shingle $\\rightarrow$ lower recall, higher precision\n",
    "- longer band $\\rightarrow$ lower recall, higher precision\n"
   ]
  },
  {
   "cell_type": "code",
   "execution_count": 15,
   "metadata": {},
   "outputs": [],
   "source": [
    "\n",
    "max_signature_size = 1500\n",
    "min_signature_size = 20\n",
    "# band_lengths = [2, 3, 4] # varying band lengths gives not strictly increasing ROC curve\n",
    "band_lengths = [15]\n",
    "shingle_sizes = [2,3,4]\n",
    "\n",
    "measure_dict = {}\n",
    "\n",
    "for shingle_size in shingle_sizes:\n",
    "    l = band_lengths[0]\n",
    "    measurements = []\n",
    "    start_size = min_signature_size - (min_signature_size % l) + l # start at next multiple of l\n",
    "    for s in range(start_size, max_signature_size, l):\n",
    "        mylsh = lsh.LSHMinHash(mentions=mentions, shingle_size=shingle_size, signature_size=s, band_length=l)\n",
    "\n",
    "        mylsh.cluster()\n",
    "        candidates = {mention: [mentions[i] for i in mylsh.candidates[idx]]  for idx, mention in mentions.items()}\n",
    "\n",
    "        m = evaluate_coref_predictions(pairs_gold, candidates, _return=True)\n",
    "        out = m + (s,)\n",
    "        measurements.append(out)\n",
    "    measure_dict[shingle_size] = measurements\n"
   ]
  },
  {
   "cell_type": "code",
   "execution_count": 16,
   "metadata": {},
   "outputs": [],
   "source": [
    "md = {k: [\n",
    "    [1 - i[0] for i in measures], # fpr\n",
    "    [i[1] for i in measures], # recall,\n",
    "    [i[2] for i in measures] # signature size\n",
    "] for k, measures in measure_dict.items()}\n"
   ]
  },
  {
   "cell_type": "code",
   "execution_count": 17,
   "metadata": {},
   "outputs": [
    {
     "data": {
      "text/plain": [
       "<matplotlib.legend.Legend at 0x7fd4986185b0>"
      ]
     },
     "execution_count": 17,
     "metadata": {},
     "output_type": "execute_result"
    },
    {
     "data": {
      "image/png": "[encoded data removed]",
      "text/plain": [
       "<Figure size 640x480 with 1 Axes>"
      ]
     },
     "metadata": {},
     "output_type": "display_data"
    }
   ],
   "source": [
    "fig, ax = plt.subplots()\n",
    "for k, v in md.items():\n",
    "    lbl = f\"shingle size {k}\"\n",
    "    ax.scatter(x=v[0], y=v[1], label=lbl)\n",
    "\n",
    "ax.set_xlabel(\"False positive rate\")\n",
    "ax.set_ylabel(\"Recall\")\n",
    "ax.set_title(\"ROC\")\n",
    "ax.legend()"
   ]
  },
  {
   "cell_type": "code",
   "execution_count": 18,
   "metadata": {},
   "outputs": [
    {
     "data": {
      "text/plain": [
       "<matplotlib.legend.Legend at 0x7fd49846c040>"
      ]
     },
     "execution_count": 18,
     "metadata": {},
     "output_type": "execute_result"
    },
    {
     "data": {
      "image/png": "[encoded data removed]",
      "text/plain": [
       "<Figure size 640x480 with 1 Axes>"
      ]
     },
     "metadata": {},
     "output_type": "display_data"
    }
   ],
   "source": [
    "fig, ax = plt.subplots()\n",
    "for k, v in md.items():\n",
    "    precision = np.array([1-i for i in v[0]])\n",
    "    recall = np.array([i for i in v[1]])\n",
    "    fscore = 2 * precision * recall / (precision + recall)\n",
    "    lbl = f\"shingle size {k}\"\n",
    "    ax.scatter(y=fscore, x=v[2], label=lbl)\n",
    "\n",
    "ax.set_ylabel(\"F-score\")\n",
    "ax.set_xlabel(\"Signature size\")\n",
    "ax.legend()"
   ]
  },
  {
   "attachments": {},
   "cell_type": "markdown",
   "metadata": {},
   "source": [
    "Notes \n",
    "- trade off: get the same recall for smaller false positive rate with larger shingle size, but need a larger signature and thus more time \n",
    "    - improve the calculation of the signature?\n",
    "    - another benefit however is that with a smaller false positive rate, the `with_coref` call in REL will be faster (smaller comparison sets)\n",
    "    - also important: higher false positive rate means more comparisons also for those mentions that are *not* coreferences (and are not in the present dataset).\n",
    "    - check again the time complexity of this -- signature length of 300 may not be feasible/lead to long computing time when data set is a few thousands of mentions\n",
    "- add color shading for shingle size? --\n",
    "- the can look like they have a negative slope (particularly for shingle size 4). Not sure why. Also happened when I varied the band lengths. does it have to do with the ordering of the input to the plot? "
   ]
  },
  {
   "attachments": {},
   "cell_type": "markdown",
   "metadata": {},
   "source": [
    "#### Profiling"
   ]
  },
  {
   "attachments": {},
   "cell_type": "markdown",
   "metadata": {},
   "source": [
    "What is going on with the numpy signature?"
   ]
  },
  {
   "cell_type": "code",
   "execution_count": 19,
   "metadata": {},
   "outputs": [
    {
     "name": "stdout",
     "output_type": "stream",
     "text": [
      "52.8 ms ± 353 µs per loop (mean ± std. dev. of 7 runs, 10 loops each)\n"
     ]
    }
   ],
   "source": [
    "mylsh = lsh.LSHMinHash(mentions=mentions, shingle_size=2, signature_size=800, band_length=10)\n",
    "mylsh._build_vocab()\n",
    "mylsh.encode_binary()\n",
    "\n",
    "\n",
    "# %timeit mylsh.make_signature\n",
    "# %timeit mylsh.make_signature_np\n",
    "\n",
    "%timeit mylsh.cluster()"
   ]
  },
  {
   "cell_type": "code",
   "execution_count": 20,
   "metadata": {},
   "outputs": [
    {
     "name": "stdout",
     "output_type": "stream",
     "text": [
      "         188421 function calls (176159 primitive calls) in 0.098 seconds\n",
      "\n",
      "   Ordered by: standard name\n",
      "\n",
      "   ncalls  tottime  percall  cumtime  percall filename:lineno(function)\n",
      "        2    0.000    0.000    0.000    0.000 <__array_function__ internals>:177(append)\n",
      "       80    0.000    0.000    0.001    0.000 <__array_function__ internals>:177(argsort)\n",
      "       81    0.000    0.000    0.020    0.000 <__array_function__ internals>:177(array_split)\n",
      "      348    0.000    0.000    0.001    0.000 <__array_function__ internals>:177(atleast_1d)\n",
      "      523    0.000    0.000    0.001    0.000 <__array_function__ internals>:177(atleast_2d)\n",
      "      174    0.000    0.000    0.003    0.000 <__array_function__ internals>:177(broadcast_arrays)\n",
      "      174    0.000    0.000    0.001    0.000 <__array_function__ internals>:177(broadcast_to)\n",
      "      736    0.000    0.000    0.001    0.000 <__array_function__ internals>:177(can_cast)\n",
      "       84    0.000    0.000    0.000    0.000 <__array_function__ internals>:177(concatenate)\n",
      "       80    0.000    0.000    0.000    0.000 <__array_function__ internals>:177(copyto)\n",
      "      336    0.000    0.000    0.002    0.000 <__array_function__ internals>:177(cumsum)\n",
      "       80    0.000    0.000    0.000    0.000 <__array_function__ internals>:177(diff)\n",
      "        4    0.000    0.000    0.000    0.000 <__array_function__ internals>:177(empty_like)\n",
      "      160    0.000    0.000    0.000    0.000 <__array_function__ internals>:177(fliplr)\n",
      "     1219    0.001    0.000    0.002    0.000 <__array_function__ internals>:177(ndim)\n",
      "       81    0.000    0.000    0.000    0.000 <__array_function__ internals>:177(nonzero)\n",
      "        2    0.000    0.000    0.000    0.000 <__array_function__ internals>:177(prod)\n",
      "        2    0.000    0.000    0.000    0.000 <__array_function__ internals>:177(ravel)\n",
      "       81    0.000    0.000    0.020    0.000 <__array_function__ internals>:177(split)\n",
      "    11826    0.003    0.000    0.014    0.000 <__array_function__ internals>:177(swapaxes)\n",
      "       80    0.000    0.000    0.001    0.000 <__array_function__ internals>:177(tile)\n",
      "      875    0.000    0.000    0.001    0.000 <frozen importlib._bootstrap>:398(parent)\n",
      "        1    0.000    0.000    0.098    0.098 <string>:1(<module>)\n",
      "        9    0.000    0.000    0.000    0.000 __init__.py:1424(debug)\n",
      "        9    0.000    0.000    0.000    0.000 __init__.py:1689(isEnabledFor)\n",
      "        9    0.000    0.000    0.000    0.000 __init__.py:2099(debug)\n",
      "      706    0.000    0.000    0.000    0.000 _base.py:105(__init__)\n",
      "     3354    0.000    0.000    0.000    0.000 _base.py:119(get_shape)\n",
      "        1    0.000    0.000    0.000    0.000 _base.py:1287(_process_toarray_args)\n",
      "     1054    0.000    0.000    0.000    0.000 _base.py:1301(isspmatrix)\n",
      "     1609    0.001    0.000    0.002    0.000 _base.py:291(nnz)\n",
      "      174    0.000    0.000    0.000    0.000 _base.py:344(__len__)\n",
      "        3    0.000    0.000    0.003    0.001 _base.py:348(asformat)\n",
      "        1    0.000    0.000    0.004    0.004 _base.py:400(dot)\n",
      "        1    0.000    0.000    0.004    0.004 _base.py:510(_mul_dispatch)\n",
      "        1    0.000    0.000    0.004    0.004 _base.py:602(_mul_sparse_matrix)\n",
      "        1    0.000    0.000    0.004    0.004 _base.py:626(__matmul__)\n",
      "      175    0.000    0.000    0.000    0.000 _base.py:73(_coo_container)\n",
      "      524    0.000    0.000    0.000    0.000 _base.py:749(__getattr__)\n",
      "        1    0.000    0.000    0.000    0.000 _base.py:78(_csc_container)\n",
      "      177    0.000    0.000    0.000    0.000 _base.py:83(_csr_container)\n",
      "      174    0.000    0.000    0.022    0.000 _base.py:999(tocoo)\n",
      "      174    0.001    0.000    0.009    0.000 _compressed.py:1034(tocoo)\n",
      "        1    0.000    0.000    0.000    0.000 _compressed.py:1048(toarray)\n",
      "      731    0.000    0.000    0.000    0.000 _compressed.py:108(getnnz)\n",
      "        1    0.000    0.000    0.000    0.000 _compressed.py:1081(__get_has_canonical_format)\n",
      "        1    0.000    0.000    0.000    0.000 _compressed.py:1103(__set_has_canonical_format)\n",
      "        1    0.000    0.000    0.000    0.000 _compressed.py:1111(sum_duplicates)\n",
      "        2    0.000    0.000    0.000    0.000 _compressed.py:1143(__set_sorted)\n",
      "      182    0.001    0.000    0.001    0.000 _compressed.py:1168(prune)\n",
      "        3    0.000    0.000    0.000    0.000 _compressed.py:125(_set_self)\n",
      "      182    0.002    0.000    0.005    0.000 _compressed.py:136(check_format)\n",
      "  182/179    0.001    0.000    0.016    0.000 _compressed.py:26(__init__)\n",
      "        1    0.000    0.000    0.004    0.004 _compressed.py:507(_mul_sparse_matrix)\n",
      "        1    0.000    0.000    0.032    0.032 _construct.py:535(vstack)\n",
      "        1    0.000    0.000    0.000    0.000 _construct.py:566(<listcomp>)\n",
      "        1    0.002    0.002    0.031    0.031 _construct.py:569(bmat)\n",
      "        2    0.000    0.000    0.000    0.000 _construct.py:620(<genexpr>)\n",
      "        2    0.000    0.000    0.000    0.000 _construct.py:633(<genexpr>)\n",
      "      175    0.000    0.000    0.000    0.000 _construct.py:676(<genexpr>)\n",
      "        1    0.000    0.000    0.000    0.000 _construct.py:678(<listcomp>)\n",
      "  350/176    0.003    0.000    0.032    0.000 _coo.py:126(__init__)\n",
      "      878    0.001    0.000    0.001    0.000 _coo.py:239(getnnz)\n",
      "      350    0.004    0.000    0.010    0.000 _coo.py:265(_check)\n",
      "        2    0.000    0.000    0.001    0.001 _coo.py:371(tocsr)\n",
      "      174    0.000    0.000    0.000    0.000 _coo.py:589(isspmatrix_coo)\n",
      "        1    0.000    0.000    0.002    0.002 _csc.py:132(tocsr)\n",
      "        3    0.000    0.000    0.000    0.000 _csc.py:230(_swap)\n",
      "        1    0.000    0.000    0.000    0.000 _csr.py:135(transpose)\n",
      "        1    0.000    0.000    0.000    0.000 _csr.py:164(tocsr)\n",
      "      894    0.000    0.000    0.000    0.000 _csr.py:231(_swap)\n",
      "      532    0.000    0.000    0.000    0.000 _data.py:20(__init__)\n",
      "      354    0.000    0.000    0.000    0.000 _data.py:23(_get_dtype)\n",
      "      174    0.000    0.000    0.003    0.000 _index.py:13(_broadcast_arrays)\n",
      "      174    0.000    0.000    0.003    0.000 _index.py:148(_validate_indices)\n",
      "      174    0.000    0.000    0.001    0.000 _index.py:267(_unpack_index)\n",
      "      174    0.000    0.000    0.000    0.000 _index.py:313(_check_ellipsis)\n",
      "  522/348    0.000    0.000    0.000    0.000 _index.py:361(_first_element_bool)\n",
      "      348    0.000    0.000    0.001    0.000 _index.py:376(_compatible_boolean_index)\n",
      "      174    0.001    0.000    0.012    0.000 _index.py:96(__setitem__)\n",
      "      174    0.000    0.000    0.000    0.000 _lil.py:213(_asindices)\n",
      "      174    0.000    0.000    0.003    0.000 _lil.py:302(_set_arrayXarray)\n",
      "      174    0.000    0.000    0.012    0.000 _lil.py:322(__setitem__)\n",
      "      174    0.001    0.000    0.012    0.000 _lil.py:448(tocsr)\n",
      "      174    0.000    0.000    0.001    0.000 _lil.py:483(_prepare_index_for_memoryview)\n",
      "      174    0.001    0.000    0.003    0.000 _lil.py:84(__init__)\n",
      "      700    0.000    0.000    0.002    0.000 _methods.py:38(_amax)\n",
      "      700    0.000    0.000    0.001    0.000 _methods.py:42(_amin)\n",
      "      349    0.000    0.000    0.000    0.000 _sputils.py:107(getdtype)\n",
      "      175    0.000    0.000    0.000    0.000 _sputils.py:133(getdata)\n",
      "      892    0.002    0.000    0.006    0.000 _sputils.py:145(get_index_dtype)\n",
      "        5    0.000    0.000    0.000    0.000 _sputils.py:20(upcast)\n",
      "        2    0.000    0.000    0.000    0.000 _sputils.py:207(isscalarlike)\n",
      "      871    0.000    0.000    0.002    0.000 _sputils.py:212(isintlike)\n",
      "      528    0.001    0.000    0.002    0.000 _sputils.py:234(isshape)\n",
      "        2    0.000    0.000    0.000    0.000 _sputils.py:264(isdense)\n",
      "      706    0.001    0.000    0.003    0.000 _sputils.py:291(check_shape)\n",
      "     2118    0.000    0.000    0.001    0.000 _sputils.py:304(<genexpr>)\n",
      "     2118    0.000    0.000    0.000    0.000 _sputils.py:309(<genexpr>)\n",
      "      532    0.000    0.000    0.000    0.000 _sputils.py:91(to_native)\n",
      "        4    0.000    0.000    0.000    0.000 _ufunc_config.py:131(geterr)\n",
      "        4    0.000    0.000    0.000    0.000 _ufunc_config.py:32(seterr)\n",
      "        2    0.000    0.000    0.000    0.000 _ufunc_config.py:429(__enter__)\n",
      "        2    0.000    0.000    0.000    0.000 _ufunc_config.py:434(__exit__)\n",
      "      364    0.000    0.000    0.000    0.000 _util.py:142(_prune_array)\n",
      "        5    0.000    0.000    0.000    0.000 abc.py:117(__instancecheck__)\n",
      "        2    0.000    0.000    0.000    0.000 contextlib.py:63(_recreate_cm)\n",
      "        2    0.000    0.000    0.000    0.000 contextlib.py:76(inner)\n",
      "       80    0.000    0.000    0.000    0.000 fromnumeric.py:1008(_argsort_dispatcher)\n",
      "       80    0.000    0.000    0.001    0.000 fromnumeric.py:1012(argsort)\n",
      "        2    0.000    0.000    0.000    0.000 fromnumeric.py:1751(_ravel_dispatcher)\n",
      "        2    0.000    0.000    0.000    0.000 fromnumeric.py:1755(ravel)\n",
      "       81    0.000    0.000    0.000    0.000 fromnumeric.py:1862(_nonzero_dispatcher)\n",
      "       81    0.000    0.000    0.000    0.000 fromnumeric.py:1866(nonzero)\n",
      "      336    0.000    0.000    0.000    0.000 fromnumeric.py:2493(_cumsum_dispatcher)\n",
      "      336    0.000    0.000    0.002    0.000 fromnumeric.py:2497(cumsum)\n",
      "        2    0.000    0.000    0.000    0.000 fromnumeric.py:2922(_prod_dispatcher)\n",
      "        2    0.000    0.000    0.000    0.000 fromnumeric.py:2927(prod)\n",
      "     1219    0.000    0.000    0.000    0.000 fromnumeric.py:3117(_ndim_dispatcher)\n",
      "     1219    0.001    0.000    0.001    0.000 fromnumeric.py:3121(ndim)\n",
      "    12323    0.003    0.000    0.007    0.000 fromnumeric.py:51(_wrapfunc)\n",
      "    11826    0.001    0.000    0.001    0.000 fromnumeric.py:546(_swapaxes_dispatcher)\n",
      "    11826    0.002    0.000    0.007    0.000 fromnumeric.py:550(swapaxes)\n",
      "        2    0.000    0.000    0.000    0.000 fromnumeric.py:69(_wrapreduction)\n",
      "        2    0.000    0.000    0.000    0.000 fromnumeric.py:70(<dictcomp>)\n",
      "       80    0.000    0.000    0.000    0.000 function_base.py:1315(_diff_dispatcher)\n",
      "       80    0.000    0.000    0.000    0.000 function_base.py:1319(diff)\n",
      "      522    0.000    0.000    0.000    0.000 function_base.py:346(iterable)\n",
      "        2    0.000    0.000    0.000    0.000 function_base.py:5385(_append_dispatcher)\n",
      "        2    0.000    0.000    0.000    0.000 function_base.py:5389(append)\n",
      "     1958    0.002    0.000    0.002    0.000 getlimits.py:648(__init__)\n",
      "      892    0.000    0.000    0.000    0.000 getlimits.py:659(min)\n",
      "     1066    0.000    0.000    0.000    0.000 getlimits.py:672(max)\n",
      "        1    0.000    0.000    0.000    0.000 lsh.py:110(_build_vocab)\n",
      "        1    0.000    0.000    0.000    0.000 lsh.py:112(<listcomp>)\n",
      "        1    0.000    0.000    0.054    0.054 lsh.py:125(encode_binary)\n",
      "      174    0.007    0.000    0.007    0.000 lsh.py:138(<listcomp>)\n",
      "        1    0.000    0.000    0.012    0.012 lsh.py:169(make_signature)\n",
      "        1    0.002    0.002    0.032    0.032 lsh.py:222(get_candidates)\n",
      "        1    0.000    0.000    0.000    0.000 lsh.py:232(<listcomp>)\n",
      "       80    0.001    0.000    0.001    0.000 lsh.py:237(<listcomp>)\n",
      "        1    0.000    0.000    0.098    0.098 lsh.py:249(cluster)\n",
      "       80    0.003    0.000    0.006    0.000 lsh.py:32(cols_to_int)\n",
      "       80    0.000    0.000    0.000    0.000 lsh.py:39(<listcomp>)\n",
      "       80    0.001    0.000    0.028    0.000 lsh.py:49(idx_unique_multidim)\n",
      "       80    0.000    0.000    0.000    0.000 multiarray.py:1071(copyto)\n",
      "       84    0.000    0.000    0.000    0.000 multiarray.py:148(concatenate)\n",
      "      736    0.000    0.000    0.000    0.000 multiarray.py:498(can_cast)\n",
      "        4    0.000    0.000    0.000    0.000 multiarray.py:80(empty_like)\n",
      "       80    0.000    0.000    0.000    0.000 numeric.py:149(ones)\n",
      "        3    0.000    0.000    0.000    0.000 numeric.py:1873(isscalar)\n",
      "       80    0.000    0.000    0.000    0.000 shape_base.py:1187(_tile_dispatcher)\n",
      "       80    0.000    0.000    0.001    0.000 shape_base.py:1191(tile)\n",
      "      160    0.000    0.000    0.000    0.000 shape_base.py:1263(<genexpr>)\n",
      "      240    0.000    0.000    0.000    0.000 shape_base.py:1273(<genexpr>)\n",
      "      348    0.000    0.000    0.000    0.000 shape_base.py:19(_atleast_1d_dispatcher)\n",
      "      348    0.000    0.000    0.000    0.000 shape_base.py:23(atleast_1d)\n",
      "       81    0.000    0.000    0.000    0.000 shape_base.py:735(_array_split_dispatcher)\n",
      "       81    0.006    0.000    0.020    0.000 shape_base.py:739(array_split)\n",
      "      523    0.000    0.000    0.000    0.000 shape_base.py:77(_atleast_2d_dispatcher)\n",
      "       81    0.000    0.000    0.000    0.000 shape_base.py:795(_split_dispatcher)\n",
      "       81    0.000    0.000    0.020    0.000 shape_base.py:799(split)\n",
      "      523    0.000    0.000    0.001    0.000 shape_base.py:81(atleast_2d)\n",
      "      522    0.000    0.000    0.000    0.000 stride_tricks.py:25(_maybe_view_as_subclass)\n",
      "      522    0.002    0.000    0.002    0.000 stride_tricks.py:340(_broadcast_to)\n",
      "     1044    0.000    0.000    0.000    0.000 stride_tricks.py:345(<genexpr>)\n",
      "      174    0.000    0.000    0.000    0.000 stride_tricks.py:363(_broadcast_to_dispatcher)\n",
      "      174    0.000    0.000    0.001    0.000 stride_tricks.py:367(broadcast_to)\n",
      "      174    0.000    0.000    0.000    0.000 stride_tricks.py:416(_broadcast_shape)\n",
      "      174    0.000    0.000    0.000    0.000 stride_tricks.py:476(_broadcast_arrays_dispatcher)\n",
      "      174    0.000    0.000    0.003    0.000 stride_tricks.py:480(broadcast_arrays)\n",
      "      174    0.000    0.000    0.000    0.000 stride_tricks.py:538(<listcomp>)\n",
      "      348    0.000    0.000    0.000    0.000 stride_tricks.py:542(<genexpr>)\n",
      "      174    0.000    0.000    0.002    0.000 stride_tricks.py:546(<listcomp>)\n",
      "      160    0.000    0.000    0.000    0.000 twodim_base.py:44(_flip_dispatcher)\n",
      "      160    0.000    0.000    0.000    0.000 twodim_base.py:48(fliplr)\n",
      "        5    0.000    0.000    0.000    0.000 {built-in method _abc._abc_instancecheck}\n",
      "     1934    0.000    0.000    0.000    0.000 {built-in method _operator.index}\n",
      "      256    0.000    0.000    0.000    0.000 {built-in method builtins.all}\n",
      "     1228    0.000    0.000    0.001    0.000 {built-in method builtins.any}\n",
      "        1    0.000    0.000    0.000    0.000 {built-in method builtins.divmod}\n",
      "        1    0.000    0.000    0.098    0.098 {built-in method builtins.exec}\n",
      "    12330    0.001    0.000    0.001    0.000 {built-in method builtins.getattr}\n",
      "      349    0.000    0.000    0.000    0.000 {built-in method builtins.hasattr}\n",
      "        5    0.000    0.000    0.000    0.000 {built-in method builtins.hash}\n",
      "     5099    0.001    0.000    0.001    0.000 {built-in method builtins.isinstance}\n",
      "     1044    0.000    0.000    0.000    0.000 {built-in method builtins.iter}\n",
      "     9337    0.001    0.000    0.001    0.000 {built-in method builtins.len}\n",
      "      708    0.000    0.000    0.000    0.000 {built-in method builtins.max}\n",
      "      174    0.000    0.000    0.000    0.000 {built-in method builtins.next}\n",
      "        1    0.000    0.000    0.000    0.000 {built-in method builtins.sum}\n",
      "     2013    0.000    0.000    0.000    0.000 {built-in method numpy.array}\n",
      "     1115    0.000    0.000    0.000    0.000 {built-in method numpy.asanyarray}\n",
      "     3203    0.002    0.000    0.002    0.000 {built-in method numpy.asarray}\n",
      "16153/4242    0.004    0.000    0.032    0.000 {built-in method numpy.core._multiarray_umath.implement_array_function}\n",
      "       80    0.000    0.000    0.000    0.000 {built-in method numpy.core._multiarray_umath.normalize_axis_index}\n",
      "     1135    0.001    0.000    0.001    0.000 {built-in method numpy.empty}\n",
      "        8    0.000    0.000    0.000    0.000 {built-in method numpy.geterrobj}\n",
      "        4    0.000    0.000    0.000    0.000 {built-in method numpy.seterrobj}\n",
      "        4    0.000    0.000    0.000    0.000 {built-in method numpy.zeros}\n",
      "        2    0.001    0.000    0.001    0.000 {built-in method scipy.sparse._sparsetools.coo_tocsr}\n",
      "        1    0.001    0.001    0.001    0.001 {built-in method scipy.sparse._sparsetools.csc_tocsr}\n",
      "        1    0.000    0.000    0.000    0.000 {built-in method scipy.sparse._sparsetools.csr_has_canonical_format}\n",
      "        1    0.001    0.001    0.001    0.001 {built-in method scipy.sparse._sparsetools.csr_matmat_maxnnz}\n",
      "        1    0.002    0.002    0.002    0.002 {built-in method scipy.sparse._sparsetools.csr_matmat}\n",
      "        1    0.000    0.000    0.000    0.000 {built-in method scipy.sparse._sparsetools.csr_todense}\n",
      "      174    0.000    0.000    0.000    0.000 {built-in method scipy.sparse._sparsetools.expandptr}\n",
      "        2    0.000    0.000    0.000    0.000 {built-in method time.time}\n",
      "        2    0.000    0.000    0.000    0.000 {function SeedSequence.generate_state at 0x7fd4b57624c0}\n",
      "      522    0.000    0.000    0.000    0.000 {method '__exit__' of 'numpy.nditer' objects}\n",
      "     5402    0.001    0.000    0.001    0.000 {method 'add' of 'set' objects}\n",
      "    12870    0.001    0.000    0.001    0.000 {method 'append' of 'list' objects}\n",
      "       80    0.000    0.000    0.000    0.000 {method 'argsort' of 'numpy.ndarray' objects}\n",
      "      180    0.000    0.000    0.000    0.000 {method 'astype' of 'numpy.ndarray' objects}\n",
      "        1    0.001    0.001    0.001    0.001 {method 'choice' of 'numpy.random._generator.Generator' objects}\n",
      "      174    0.000    0.000    0.000    0.000 {method 'copy' of 'numpy.ndarray' objects}\n",
      "      337    0.001    0.000    0.001    0.000 {method 'cumsum' of 'numpy.ndarray' objects}\n",
      "        1    0.000    0.000    0.000    0.000 {method 'disable' of '_lsprof.Profiler' objects}\n",
      "        5    0.000    0.000    0.000    0.000 {method 'get' of 'dict' objects}\n",
      "        2    0.000    0.000    0.000    0.000 {method 'items' of 'dict' objects}\n",
      "      700    0.000    0.000    0.002    0.000 {method 'max' of 'numpy.ndarray' objects}\n",
      "      700    0.000    0.000    0.001    0.000 {method 'min' of 'numpy.ndarray' objects}\n",
      "       82    0.002    0.000    0.002    0.000 {method 'nonzero' of 'numpy.ndarray' objects}\n",
      "        4    0.000    0.000    0.000    0.000 {method 'ravel' of 'numpy.ndarray' objects}\n",
      "     1402    0.002    0.000    0.002    0.000 {method 'reduce' of 'numpy.ufunc' objects}\n",
      "       80    0.000    0.000    0.000    0.000 {method 'repeat' of 'numpy.ndarray' objects}\n",
      "      508    0.000    0.000    0.000    0.000 {method 'reshape' of 'numpy.ndarray' objects}\n",
      "      875    0.000    0.000    0.000    0.000 {method 'rpartition' of 'str' objects}\n",
      "      428    0.000    0.000    0.000    0.000 {method 'squeeze' of 'numpy.ndarray' objects}\n",
      "    11826    0.002    0.000    0.002    0.000 {method 'swapaxes' of 'numpy.ndarray' objects}\n",
      "        2    0.000    0.000    0.000    0.000 {numpy.random._generator.default_rng}\n",
      "      174    0.001    0.000    0.001    0.000 {scipy.sparse._csparsetools.lil_fancy_set}\n",
      "      348    0.001    0.000    0.001    0.000 {scipy.sparse._csparsetools.lil_flatten_to_array}\n",
      "      174    0.000    0.000    0.000    0.000 {scipy.sparse._csparsetools.lil_get_lengths}\n",
      "\n",
      "\n"
     ]
    }
   ],
   "source": [
    "\n",
    "cProfile.run(\"mylsh.cluster()\")\n",
    "# cProfile.run(\"mylsh.make_signature()\")\n"
   ]
  },
  {
   "cell_type": "code",
   "execution_count": 10,
   "metadata": {},
   "outputs": [],
   "source": [
    "\n",
    "# stack mentions on top of each other \n",
    "mentions_scaled = copy.copy(mentions)\n",
    "\n",
    "idx = len(mentions_scaled)\n",
    "for i in range(1, scaling_factor):\n",
    "    for idx_old in mentions.keys():\n",
    "        m = mentions[idx_old]\n",
    "        mentions_scaled[idx] = m \n",
    "        idx += 1"
   ]
  },
  {
   "cell_type": "code",
   "execution_count": 11,
   "metadata": {},
   "outputs": [
    {
     "name": "stdout",
     "output_type": "stream",
     "text": [
      "         10 function calls in 0.001 seconds\n",
      "\n",
      "   Ordered by: standard name\n",
      "\n",
      "   ncalls  tottime  percall  cumtime  percall filename:lineno(function)\n",
      "        1    0.000    0.000    0.059    0.059 <string>:1(<module>)\n",
      "        1    0.000    0.000    0.000    0.000 lsh.py:123(_build_vocab)\n",
      "        1    0.000    0.000    0.000    0.000 lsh.py:125(<listcomp>)\n",
      "        1    0.000    0.000    0.059    0.059 lsh.py:128(encode_binary)\n",
      "        1    0.000    0.000    0.059    0.059 lsh.py:129(<listcomp>)\n",
      "        1    0.000    0.000    0.000    0.000 lsh.py:198(_min_hash)\n",
      "        1    0.000    0.000    0.059    0.059 lsh.py:246(cluster)\n",
      "        1    0.000    0.000    0.059    0.059 {built-in method builtins.exec}\n",
      "        1    0.000    0.000    0.000    0.000 {built-in method time.time}\n",
      "        1    0.000    0.000    0.000    0.000 {method 'disable' of '_lsprof.Profiler' objects}\n",
      "\n",
      "\n"
     ]
    },
    {
     "ename": "AttributeError",
     "evalue": "'LSHMinHash_nonp' object has no attribute 'mentions'",
     "output_type": "error",
     "traceback": [
      "\u001b[0;31m---------------------------------------------------------------------------\u001b[0m",
      "\u001b[0;31mAttributeError\u001b[0m                            Traceback (most recent call last)",
      "Cell \u001b[0;32mIn[11], line 2\u001b[0m\n\u001b[1;32m      1\u001b[0m mylsh \u001b[39m=\u001b[39m lsh\u001b[39m.\u001b[39mLSHMinHash_nonp(mentions\u001b[39m=\u001b[39mmentions_scaled, shingle_size\u001b[39m=\u001b[39m\u001b[39m4\u001b[39m, signature_size\u001b[39m=\u001b[39m\u001b[39m300\u001b[39m, n_buckets\u001b[39m=\u001b[39m\u001b[39m2\u001b[39m)\n\u001b[0;32m----> 2\u001b[0m cProfile\u001b[39m.\u001b[39;49mrun(\u001b[39m\"\u001b[39;49m\u001b[39mmylsh.cluster()\u001b[39;49m\u001b[39m\"\u001b[39;49m)\n",
      "File \u001b[0;32m~/projects/rel20/lsh_coreferences/env/lib/python3.9/cProfile.py:16\u001b[0m, in \u001b[0;36mrun\u001b[0;34m(statement, filename, sort)\u001b[0m\n\u001b[1;32m     15\u001b[0m \u001b[39mdef\u001b[39;00m \u001b[39mrun\u001b[39m(statement, filename\u001b[39m=\u001b[39m\u001b[39mNone\u001b[39;00m, sort\u001b[39m=\u001b[39m\u001b[39m-\u001b[39m\u001b[39m1\u001b[39m):\n\u001b[0;32m---> 16\u001b[0m     \u001b[39mreturn\u001b[39;00m _pyprofile\u001b[39m.\u001b[39;49m_Utils(Profile)\u001b[39m.\u001b[39;49mrun(statement, filename, sort)\n",
      "File \u001b[0;32m~/projects/rel20/lsh_coreferences/env/lib/python3.9/profile.py:53\u001b[0m, in \u001b[0;36m_Utils.run\u001b[0;34m(self, statement, filename, sort)\u001b[0m\n\u001b[1;32m     51\u001b[0m prof \u001b[39m=\u001b[39m \u001b[39mself\u001b[39m\u001b[39m.\u001b[39mprofiler()\n\u001b[1;32m     52\u001b[0m \u001b[39mtry\u001b[39;00m:\n\u001b[0;32m---> 53\u001b[0m     prof\u001b[39m.\u001b[39;49mrun(statement)\n\u001b[1;32m     54\u001b[0m \u001b[39mexcept\u001b[39;00m \u001b[39mSystemExit\u001b[39;00m:\n\u001b[1;32m     55\u001b[0m     \u001b[39mpass\u001b[39;00m\n",
      "File \u001b[0;32m~/projects/rel20/lsh_coreferences/env/lib/python3.9/cProfile.py:95\u001b[0m, in \u001b[0;36mProfile.run\u001b[0;34m(self, cmd)\u001b[0m\n\u001b[1;32m     93\u001b[0m \u001b[39mimport\u001b[39;00m \u001b[39m__main__\u001b[39;00m\n\u001b[1;32m     94\u001b[0m \u001b[39mdict\u001b[39m \u001b[39m=\u001b[39m __main__\u001b[39m.\u001b[39m\u001b[39m__dict__\u001b[39m\n\u001b[0;32m---> 95\u001b[0m \u001b[39mreturn\u001b[39;00m \u001b[39mself\u001b[39;49m\u001b[39m.\u001b[39;49mrunctx(cmd, \u001b[39mdict\u001b[39;49m, \u001b[39mdict\u001b[39;49m)\n",
      "File \u001b[0;32m~/projects/rel20/lsh_coreferences/env/lib/python3.9/cProfile.py:100\u001b[0m, in \u001b[0;36mProfile.runctx\u001b[0;34m(self, cmd, globals, locals)\u001b[0m\n\u001b[1;32m     98\u001b[0m \u001b[39mself\u001b[39m\u001b[39m.\u001b[39menable()\n\u001b[1;32m     99\u001b[0m \u001b[39mtry\u001b[39;00m:\n\u001b[0;32m--> 100\u001b[0m     exec(cmd, \u001b[39mglobals\u001b[39;49m, \u001b[39mlocals\u001b[39;49m)\n\u001b[1;32m    101\u001b[0m \u001b[39mfinally\u001b[39;00m:\n\u001b[1;32m    102\u001b[0m     \u001b[39mself\u001b[39m\u001b[39m.\u001b[39mdisable()\n",
      "File \u001b[0;32m<string>:1\u001b[0m\n",
      "File \u001b[0;32m~/projects/rel20/lsh_coreferences/lsh.py:251\u001b[0m, in \u001b[0;36mLSHMinHash_nonp.cluster\u001b[0;34m(self)\u001b[0m\n\u001b[1;32m    249\u001b[0m \u001b[39mself\u001b[39m\u001b[39m.\u001b[39m_build_vocab()\n\u001b[1;32m    250\u001b[0m \u001b[39mself\u001b[39m\u001b[39m.\u001b[39mencode_binary()\n\u001b[0;32m--> 251\u001b[0m \u001b[39mself\u001b[39;49m\u001b[39m.\u001b[39;49m_min_hash()\n\u001b[1;32m    252\u001b[0m \u001b[39mself\u001b[39m\u001b[39m.\u001b[39m_make_bands()\n\u001b[1;32m    253\u001b[0m \u001b[39mself\u001b[39m\u001b[39m.\u001b[39m_make_clusters()\n",
      "File \u001b[0;32m~/projects/rel20/lsh_coreferences/lsh.py:199\u001b[0m, in \u001b[0;36mLSHMinHash_nonp._min_hash\u001b[0;34m(self)\u001b[0m\n\u001b[1;32m    198\u001b[0m \u001b[39mdef\u001b[39;00m \u001b[39m_min_hash\u001b[39m(\u001b[39mself\u001b[39m):\n\u001b[0;32m--> 199\u001b[0m     signatures \u001b[39m=\u001b[39m {k: [] \u001b[39mfor\u001b[39;00m k \u001b[39min\u001b[39;00m \u001b[39mself\u001b[39;49m\u001b[39m.\u001b[39;49mmentions\u001b[39m.\u001b[39mkeys()}\n\u001b[1;32m    200\u001b[0m     \u001b[39mhash\u001b[39m \u001b[39m=\u001b[39m \u001b[39mlist\u001b[39m(\u001b[39mrange\u001b[39m(\u001b[39mlen\u001b[39m(\u001b[39mself\u001b[39m\u001b[39m.\u001b[39mvocab)))\n\u001b[1;32m    202\u001b[0m     \u001b[39mfor\u001b[39;00m i \u001b[39min\u001b[39;00m \u001b[39mrange\u001b[39m(\u001b[39mself\u001b[39m\u001b[39m.\u001b[39msignature_size):\n",
      "\u001b[0;31mAttributeError\u001b[0m: 'LSHMinHash_nonp' object has no attribute 'mentions'"
     ]
    }
   ],
   "source": [
    "mylsh = lsh.LSHMinHash_nonp(mentions=mentions_scaled, shingle_size=4, signature_size=300, n_buckets=2)\n",
    "cProfile.run(\"mylsh.cluster()\")"
   ]
  },
  {
   "cell_type": "code",
   "execution_count": 12,
   "metadata": {},
   "outputs": [
    {
     "name": "stdout",
     "output_type": "stream",
     "text": [
      "         849488 function calls (825167 primitive calls) in 1.405 seconds\n",
      "\n",
      "   Ordered by: standard name\n",
      "\n",
      "   ncalls  tottime  percall  cumtime  percall filename:lineno(function)\n",
      "      150    0.000    0.000    0.005    0.000 <__array_function__ internals>:177(argsort)\n",
      "      151    0.000    0.000    0.041    0.000 <__array_function__ internals>:177(array_split)\n",
      "      153    0.000    0.000    0.003    0.000 <__array_function__ internals>:177(concatenate)\n",
      "      150    0.000    0.000    0.000    0.000 <__array_function__ internals>:177(copyto)\n",
      "      300    0.000    0.000    0.003    0.000 <__array_function__ internals>:177(cumsum)\n",
      "      150    0.000    0.000    0.001    0.000 <__array_function__ internals>:177(diff)\n",
      "      300    0.000    0.000    0.001    0.000 <__array_function__ internals>:177(empty_like)\n",
      "      300    0.000    0.000    0.001    0.000 <__array_function__ internals>:177(fliplr)\n",
      "      300    0.000    0.000    0.001    0.000 <__array_function__ internals>:177(ndim)\n",
      "      150    0.000    0.000    0.000    0.000 <__array_function__ internals>:177(nonzero)\n",
      "      151    0.000    0.000    0.041    0.000 <__array_function__ internals>:177(split)\n",
      "        2    0.000    0.000    0.031    0.015 <__array_function__ internals>:177(stack)\n",
      "    24468    0.006    0.000    0.029    0.000 <__array_function__ internals>:177(swapaxes)\n",
      "      150    0.000    0.000    0.002    0.000 <__array_function__ internals>:177(tile)\n",
      "        1    0.000    0.000    1.458    1.458 <string>:1(<module>)\n",
      "        2    0.000    0.000    0.000    0.000 _ufunc_config.py:131(geterr)\n",
      "        2    0.000    0.000    0.000    0.000 _ufunc_config.py:32(seterr)\n",
      "        1    0.000    0.000    0.000    0.000 _ufunc_config.py:429(__enter__)\n",
      "        1    0.000    0.000    0.000    0.000 _ufunc_config.py:434(__exit__)\n",
      "        1    0.000    0.000    0.000    0.000 abc.py:117(__instancecheck__)\n",
      "        1    0.000    0.000    0.000    0.000 contextlib.py:63(_recreate_cm)\n",
      "        1    0.000    0.000    0.000    0.000 contextlib.py:76(inner)\n",
      "      150    0.000    0.000    0.000    0.000 fromnumeric.py:1008(_argsort_dispatcher)\n",
      "      150    0.000    0.000    0.005    0.000 fromnumeric.py:1012(argsort)\n",
      "      150    0.000    0.000    0.000    0.000 fromnumeric.py:1862(_nonzero_dispatcher)\n",
      "      150    0.000    0.000    0.000    0.000 fromnumeric.py:1866(nonzero)\n",
      "      300    0.000    0.000    0.000    0.000 fromnumeric.py:2493(_cumsum_dispatcher)\n",
      "      300    0.000    0.000    0.002    0.000 fromnumeric.py:2497(cumsum)\n",
      "      300    0.000    0.000    0.000    0.000 fromnumeric.py:3117(_ndim_dispatcher)\n",
      "      300    0.000    0.000    0.000    0.000 fromnumeric.py:3121(ndim)\n",
      "    25068    0.006    0.000    0.019    0.000 fromnumeric.py:51(_wrapfunc)\n",
      "    24468    0.002    0.000    0.002    0.000 fromnumeric.py:546(_swapaxes_dispatcher)\n",
      "    24468    0.005    0.000    0.016    0.000 fromnumeric.py:550(swapaxes)\n",
      "      150    0.000    0.000    0.000    0.000 function_base.py:1315(_diff_dispatcher)\n",
      "      150    0.001    0.000    0.001    0.000 function_base.py:1319(diff)\n",
      "        1    0.000    0.000    0.000    0.000 lsh.py:123(_build_vocab)\n",
      "        1    0.000    0.000    0.000    0.000 lsh.py:125(<listcomp>)\n",
      "        1    0.000    0.000    0.083    0.083 lsh.py:128(encode_binary)\n",
      "        1    0.000    0.000    0.053    0.053 lsh.py:129(<listcomp>)\n",
      "        1    0.005    0.005    1.162    1.162 lsh.py:286(make_signature)\n",
      "      150    0.028    0.000    0.034    0.000 lsh.py:29(cols_to_int)\n",
      "        1    0.088    0.088    0.210    0.210 lsh.py:303(get_candidates)\n",
      "        1    0.000    0.000    0.000    0.000 lsh.py:307(<listcomp>)\n",
      "      150    0.002    0.000    0.002    0.000 lsh.py:312(<listcomp>)\n",
      "        1    0.002    0.002    1.458    1.458 lsh.py:327(cluster)\n",
      "      150    0.000    0.000    0.000    0.000 lsh.py:36(<listcomp>)\n",
      "      150    0.001    0.000    0.084    0.001 lsh.py:59(idx_unique_multidim)\n",
      "      150    0.000    0.000    0.000    0.000 multiarray.py:1071(copyto)\n",
      "      153    0.000    0.000    0.000    0.000 multiarray.py:148(concatenate)\n",
      "      300    0.000    0.000    0.000    0.000 multiarray.py:80(empty_like)\n",
      "      150    0.000    0.000    0.001    0.000 numeric.py:149(ones)\n",
      "      150    0.000    0.000    0.000    0.000 shape_base.py:1187(_tile_dispatcher)\n",
      "      150    0.001    0.000    0.002    0.000 shape_base.py:1191(tile)\n",
      "      300    0.000    0.000    0.000    0.000 shape_base.py:1263(<genexpr>)\n",
      "      450    0.000    0.000    0.000    0.000 shape_base.py:1273(<genexpr>)\n",
      "        2    0.000    0.000    0.000    0.000 shape_base.py:207(_arrays_for_stack_dispatcher)\n",
      "        2    0.000    0.000    0.000    0.000 shape_base.py:348(_stack_dispatcher)\n",
      "        2    0.000    0.000    0.030    0.015 shape_base.py:357(stack)\n",
      "        2    0.000    0.000    0.027    0.014 shape_base.py:420(<listcomp>)\n",
      "        2    0.000    0.000    0.000    0.000 shape_base.py:424(<setcomp>)\n",
      "        2    0.000    0.000    0.000    0.000 shape_base.py:432(<listcomp>)\n",
      "      151    0.000    0.000    0.000    0.000 shape_base.py:735(_array_split_dispatcher)\n",
      "      151    0.012    0.000    0.041    0.000 shape_base.py:739(array_split)\n",
      "      151    0.000    0.000    0.000    0.000 shape_base.py:795(_split_dispatcher)\n",
      "      151    0.000    0.000    0.041    0.000 shape_base.py:799(split)\n",
      "      300    0.000    0.000    0.000    0.000 twodim_base.py:44(_flip_dispatcher)\n",
      "      300    0.000    0.000    0.000    0.000 twodim_base.py:48(fliplr)\n",
      "        1    0.000    0.000    0.000    0.000 {built-in method _abc._abc_instancecheck}\n",
      "      150    0.000    0.000    0.000    0.000 {built-in method builtins.all}\n",
      "        1    0.000    0.000    0.000    0.000 {built-in method builtins.divmod}\n",
      "        1    0.000    0.000    1.458    1.458 {built-in method builtins.exec}\n",
      "    25068    0.002    0.000    0.002    0.000 {built-in method builtins.getattr}\n",
      "        2    0.000    0.000    0.000    0.000 {built-in method builtins.hasattr}\n",
      "      604    0.000    0.000    0.000    0.000 {built-in method builtins.len}\n",
      "      151    0.000    0.000    0.000    0.000 {built-in method numpy.array}\n",
      "     1620    0.027    0.000    0.027    0.000 {built-in method numpy.asanyarray}\n",
      "26875/2554    0.010    0.000    0.085    0.000 {built-in method numpy.core._multiarray_umath.implement_array_function}\n",
      "      152    0.000    0.000    0.000    0.000 {built-in method numpy.core._multiarray_umath.normalize_axis_index}\n",
      "      150    0.000    0.000    0.000    0.000 {built-in method numpy.empty}\n",
      "        4    0.000    0.000    0.000    0.000 {built-in method numpy.geterrobj}\n",
      "        2    0.000    0.000    0.000    0.000 {built-in method numpy.seterrobj}\n",
      "        2    0.000    0.000    0.000    0.000 {built-in method time.time}\n",
      "        1    0.000    0.000    0.000    0.000 {function SeedSequence.generate_state at 0x7f106c125ee0}\n",
      "   637350    0.037    0.000    0.037    0.000 {method 'add' of 'set' objects}\n",
      "    24467    0.001    0.000    0.001    0.000 {method 'append' of 'list' objects}\n",
      "      300    0.065    0.000    0.065    0.000 {method 'argmax' of 'numpy.ndarray' objects}\n",
      "      150    0.005    0.000    0.005    0.000 {method 'argsort' of 'numpy.ndarray' objects}\n",
      "      301    0.002    0.000    0.002    0.000 {method 'cumsum' of 'numpy.ndarray' objects}\n",
      "        1    0.000    0.000    0.000    0.000 {method 'disable' of '_lsprof.Profiler' objects}\n",
      "      150    0.000    0.000    0.000    0.000 {method 'nonzero' of 'numpy.ndarray' objects}\n",
      "      150    0.000    0.000    0.000    0.000 {method 'repeat' of 'numpy.ndarray' objects}\n",
      "      300    0.000    0.000    0.000    0.000 {method 'reshape' of 'numpy.ndarray' objects}\n",
      "      300    1.089    0.004    1.091    0.004 {method 'shuffle' of 'numpy.random._generator.Generator' objects}\n",
      "      150    0.000    0.000    0.000    0.000 {method 'squeeze' of 'numpy.ndarray' objects}\n",
      "    24468    0.004    0.000    0.004    0.000 {method 'swapaxes' of 'numpy.ndarray' objects}\n",
      "        1    0.000    0.000    0.000    0.000 {numpy.random._generator.default_rng}\n",
      "\n",
      "\n"
     ]
    }
   ],
   "source": [
    "mylsh = lsh.LSHMinHash(mentions=mentions_scaled, shingle_size=4, signature_size=300, band_length=2)\n",
    "\n",
    "cProfile.run(\"mylsh.cluster()\")"
   ]
  },
  {
   "attachments": {},
   "cell_type": "markdown",
   "metadata": {},
   "source": [
    "Try new features from REL "
   ]
  },
  {
   "cell_type": "code",
   "execution_count": 11,
   "metadata": {},
   "outputs": [],
   "source": [
    "mylsh = lsh.LSHMinHash(mentions=mentions, shingle_size=4, signature_size=50, band_length=2)\n",
    "from random import shuffle, seed \n",
    "from scipy import sparse \n",
    "seed(3)\n",
    "import logging \n",
    "logging.basicConfig(level=logging.DEBUG)\n",
    "\n",
    "mylsh._build_vocab()\n",
    "mylsh.encode_binary(dest=\"sparse\")\n",
    "\n",
    "mylsh.make_signature()\n",
    "\n",
    "# mylsh.get_candidates()\n",
    "\n",
    "\n",
    "\n",
    "# indices = np.arange(mylsh.vectors.shape[1])\n",
    "# shuffle(indices)\n",
    "# sig = sparse.lil_matrix(mylsh.vectors)\n",
    "# sig = sig[:, list(indices)]\n",
    "# sig = sparse.csr_matrix(sig)\n",
    "# sig_i = sig.argmax(axis=1)\n",
    "# sig_i\n",
    "\n",
    "# templist = []\n",
    "# i = 0\n",
    "# indices = np.arange(mylsh.vectors.shape[1])\n",
    "# while i < mylsh.signature_size:\n",
    "#     shuffle(indices)\n",
    "#     sig = sparse.lil_matrix(mylsh.vectors)\n",
    "#     sig = sig[:, list(indices)]\n",
    "#     sig = sparse.csr_matrix(sig)\n",
    "#     sig_i = 1 + sig.argmax(axis=1)\n",
    "#     sig_i = np.asarray(sig_i)\n",
    "#     templist.append(sig_i)\n",
    "#     i += 1\n",
    "\n",
    "# sig_i = templist[0]\n",
    "\n",
    "# type(sig_i)\n",
    "\n",
    "# out = np.stack(templist, axis=1).squeeze()\n",
    "\n",
    "# out.min()\n"
   ]
  },
  {
   "attachments": {},
   "cell_type": "markdown",
   "metadata": {},
   "source": [
    "#### Time analysis for sorting multidimensional array along one axis"
   ]
  },
  {
   "cell_type": "code",
   "execution_count": null,
   "metadata": {},
   "outputs": [],
   "source": [
    "# keep this for some time analysis\n",
    "    # mult before sort -- adapt from the now helper function cols_to_int\n",
    "x = np.array([[0, 3], [2, 2], [2, 2], [0, 3]]) \n",
    "x = np.array([[1, 3], [2, 2], [2, 2], [1, 3], [1, 5], [1, 1]]) # this is one test case\n",
    "A = np.array([[3,4], [3,5], [5,6], [3,4], [6,7]]) # this is another test case\n",
    "\n",
    "display(A)\n",
    "display(np.argsort(A, axis=0))\n",
    "display(A.view('i8,i8').argsort(order=['f1'], axis=0))\n",
    "\n",
    "display(x)\n",
    "display(np.argsort(x, axis=0))\n",
    "display(x.view('i8,i8').argsort(order=['f1'], axis=0))\n",
    "\n",
    "\n",
    "n = 100_000\n",
    "A = np.random.choice(np.arange(int(n/100)), size=(n,2))\n",
    "%timeit np.argsort(A, axis=0)\n",
    "%timeit A.view('i8,i8').argsort(order=['f1'], axis=0)\n",
    "%timeit mult_before_sort(A)"
   ]
  },
  {
   "attachments": {},
   "cell_type": "markdown",
   "metadata": {},
   "source": [
    "Alternatives to take along axis? -- for reshape"
   ]
  },
  {
   "cell_type": "code",
   "execution_count": 21,
   "metadata": {},
   "outputs": [],
   "source": [
    "a = np.arange(4000).reshape(200,4,5)\n",
    "n_reps, n_rows, n_cols = a.shape\n",
    "\n",
    "a = a.reshape(n_reps*n_rows, n_cols)\n",
    "idx = np.arange(n_reps*n_rows).reshape(n_reps, n_rows).T.reshape(-1,1)\n",
    "\n",
    "def new_approach(a):\n",
    "    a = a[idx,:].squeeze().reshape(n_rows, n_reps, n_cols)\n",
    "    return a\n",
    "\n",
    "def old_approach(a):\n",
    "    a = np.take_along_axis(a, idx, axis=0).reshape(n_rows, n_reps, n_cols)\n",
    "    return a "
   ]
  },
  {
   "cell_type": "code",
   "execution_count": 22,
   "metadata": {},
   "outputs": [],
   "source": [
    "assert np.all(new_approach(a) == old_approach(a))"
   ]
  },
  {
   "cell_type": "code",
   "execution_count": 23,
   "metadata": {},
   "outputs": [
    {
     "name": "stdout",
     "output_type": "stream",
     "text": [
      "14.7 µs ± 40.6 ns per loop (mean ± std. dev. of 7 runs, 100,000 loops each)\n",
      "7.18 µs ± 37.6 ns per loop (mean ± std. dev. of 7 runs, 100,000 loops each)\n"
     ]
    }
   ],
   "source": [
    "%timeit old_approach(a)\n",
    "%timeit new_approach(a)"
   ]
  },
  {
   "cell_type": "code",
   "execution_count": 25,
   "metadata": {},
   "outputs": [
    {
     "name": "stdout",
     "output_type": "stream",
     "text": [
      "         6 function calls in 0.000 seconds\n",
      "\n",
      "   Ordered by: standard name\n",
      "\n",
      "   ncalls  tottime  percall  cumtime  percall filename:lineno(function)\n",
      "        1    0.000    0.000    0.000    0.000 1295725854.py:7(new_approach)\n",
      "        1    0.000    0.000    0.000    0.000 <string>:1(<module>)\n",
      "        1    0.000    0.000    0.000    0.000 {built-in method builtins.exec}\n",
      "        1    0.000    0.000    0.000    0.000 {method 'disable' of '_lsprof.Profiler' objects}\n",
      "        1    0.000    0.000    0.000    0.000 {method 'reshape' of 'numpy.ndarray' objects}\n",
      "        1    0.000    0.000    0.000    0.000 {method 'squeeze' of 'numpy.ndarray' objects}\n",
      "\n",
      "\n"
     ]
    }
   ],
   "source": [
    "cProfile.run(\"new_approach(a)\")"
   ]
  },
  {
   "attachments": {},
   "cell_type": "markdown",
   "metadata": {},
   "source": [
    "for minhash function"
   ]
  },
  {
   "cell_type": "code",
   "execution_count": 120,
   "metadata": {},
   "outputs": [],
   "source": [
    "rng = np.random.default_rng(1)\n",
    "x = rng.normal(0,1,100_000).reshape(100,1000)\n"
   ]
  },
  {
   "cell_type": "code",
   "execution_count": 121,
   "metadata": {},
   "outputs": [],
   "source": [
    "n_reps = 200\n",
    "indices = np.arange(x.shape[1])\n",
    "rng = np.random.default_rng(3)\n",
    "\n",
    "# expand by n_reps \n",
    "indices_mult = np.tile(indices, (n_reps, 1)) # reorder the columns n_reps times \n",
    "x_mult = np.tile(x, (n_reps, 1)).reshape((n_reps,) + x.shape) # new shape: (n_resp, x.shape[0], x.shape[1\n",
    "permuted_indices = rng.permuted(indices_mult, axis=1)\n"
   ]
  },
  {
   "cell_type": "code",
   "execution_count": 122,
   "metadata": {},
   "outputs": [],
   "source": [
    "\n",
    "def old_approach(a, permuted_indices):\n",
    "    out = np.take_along_axis(a, permuted_indices[:, np.newaxis, :], 2)\n",
    "    return out \n",
    "\n",
    "def new_approach(a, permuted_indices):\n",
    "    I = np.arange(a.shape[0])[:, np.newaxis]\n",
    "    out = a[I, :, permuted_indices].swapaxes(1,2)\n",
    "    return out \n",
    "\n",
    "assert np.all(new_approach(x_mult, permuted_indices) == old_approach(x_mult, permuted_indices))\n"
   ]
  },
  {
   "cell_type": "code",
   "execution_count": 123,
   "metadata": {},
   "outputs": [
    {
     "name": "stdout",
     "output_type": "stream",
     "text": [
      "99.1 ms ± 4.48 ms per loop (mean ± std. dev. of 7 runs, 100 loops each)\n",
      "47.5 ms ± 2.07 ms per loop (mean ± std. dev. of 7 runs, 100 loops each)\n"
     ]
    }
   ],
   "source": [
    "%timeit -n 100 old_approach(x_mult, permuted_indices)\n",
    "%timeit -n 100 new_approach(x_mult, permuted_indices)"
   ]
  }
 ],
 "metadata": {
  "kernelspec": {
   "display_name": "Python 3",
   "language": "python",
   "name": "python3"
  },
  "language_info": {
   "codemirror_mode": {
    "name": "ipython",
    "version": 3
   },
   "file_extension": ".py",
   "mimetype": "text/x-python",
   "name": "python",
   "nbconvert_exporter": "python",
   "pygments_lexer": "ipython3",
   "version": "3.9.15"
  },
  "orig_nbformat": 4,
  "vscode": {
   "interpreter": {
    "hash": "541f9b2bd2e07a99fbe19519917a2a847d7149d43292ee48064a4037dd0b7699"
   }
  }
 },
 "nbformat": 4,
 "nbformat_minor": 2
}
