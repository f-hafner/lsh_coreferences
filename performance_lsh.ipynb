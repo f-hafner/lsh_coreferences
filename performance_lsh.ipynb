{
 "cells": [
  {
   "attachments": {},
   "cell_type": "markdown",
   "metadata": {},
   "source": [
    "# Performance of LSH for coreferences"
   ]
  },
  {
   "cell_type": "code",
   "execution_count": 1,
   "metadata": {},
   "outputs": [],
   "source": [
    "from load_coreferences import load_coreferences, load_pairs\n",
    "import lsh \n",
    "import copy\n",
    "import numpy as np\n",
    "import time \n",
    "import matplotlib.pyplot as plt\n",
    "\n",
    "import cProfile\n",
    "\n",
    "scaling_factor = 5 # multiply size the original data set by this factor"
   ]
  },
  {
   "cell_type": "code",
   "execution_count": 2,
   "metadata": {},
   "outputs": [],
   "source": [
    "all_pairs = load_pairs()\n",
    "raw_mentions = load_coreferences()\n",
    "mentions = {i: m for i, m in enumerate(raw_mentions)}\n"
   ]
  },
  {
   "attachments": {},
   "cell_type": "markdown",
   "metadata": {},
   "source": [
    "#### Effectiveness"
   ]
  },
  {
   "cell_type": "code",
   "execution_count": 3,
   "metadata": {},
   "outputs": [],
   "source": [
    "def evaluate_coref_predictions(pairs_gold, candidates, _return = False):\n",
    "    \"Precision and recall for LSH coref pair search\"\n",
    "    missed = 0 \n",
    "    correct = 0 \n",
    "    wrong = 0\n",
    "\n",
    "    for mention, true_reference in pairs_gold.items():\n",
    "        current_candidates = candidates[mention]\n",
    "\n",
    "        if true_reference not in current_candidates:\n",
    "            missed += 1\n",
    "        for candidate in current_candidates:\n",
    "            if candidate == true_reference:\n",
    "                correct += 1\n",
    "            elif candidate != true_reference:\n",
    "                wrong += 1\n",
    "\n",
    "\n",
    "    precision = correct / (correct + wrong)\n",
    "    recall = correct / (correct + missed)\n",
    "\n",
    "    ndig = 3\n",
    "    if not _return:\n",
    "        print(f\"Precision: {round(precision, ndig)}\") # note: lower precision means larger comparison set for coref classification.\n",
    "        print(f\"Recall: {round(recall, ndig)}\") \n",
    "    else:\n",
    "        return (precision, recall)"
   ]
  },
  {
   "cell_type": "code",
   "execution_count": 4,
   "metadata": {},
   "outputs": [],
   "source": [
    "pairs_gold = {}\n",
    "for pair_doc in all_pairs.values():\n",
    "    for p in pair_doc:\n",
    "        pairs_gold[p[1]] = p[0] # key = mention, value = true coreference\n",
    "\n"
   ]
  },
  {
   "cell_type": "code",
   "execution_count": 5,
   "metadata": {},
   "outputs": [
    {
     "name": "stdout",
     "output_type": "stream",
     "text": [
      "took 0.3093845844268799 seconds for 174 mentions\n",
      "average, min, max cluster size: 1.7, 1, 5\n",
      "Precision: 0.713\n",
      "Recall: 1.0\n"
     ]
    }
   ],
   "source": [
    "mylsh = lsh.LSHMinHash(mentions=mentions, shingle_size=4, signature_size=300, band_length=2)\n",
    "\n",
    "mylsh.cluster()\n",
    "mylsh.summarise()\n",
    "candidates = {mention: [mentions[i] for i in mylsh.candidates[idx]]  for idx, mention in mentions.items()}\n",
    "\n",
    "evaluate_coref_predictions(pairs_gold, candidates)\n"
   ]
  },
  {
   "attachments": {},
   "cell_type": "markdown",
   "metadata": {},
   "source": [
    "Properties    \n",
    "- longer signature $\\rightarrow$ higher recall, lower precision\n",
    "- larger shingle $\\rightarrow$ lower recall, higher precision\n",
    "- longer band $\\rightarrow$ lower recall, higher precision\n"
   ]
  },
  {
   "cell_type": "code",
   "execution_count": 6,
   "metadata": {},
   "outputs": [],
   "source": [
    "\n",
    "max_signature_size = 300\n",
    "min_signature_size = 20\n",
    "# band_lengths = [2, 3, 4] # varying band lengths gives not strictly increasing ROC curve\n",
    "band_lengths = [2]\n",
    "shingle_sizes = [2,3,4]\n",
    "\n",
    "measure_dict = {}\n",
    "\n",
    "for shingle_size in shingle_sizes:\n",
    "    l = band_lengths[0]\n",
    "    measurements = []\n",
    "    start_size = min_signature_size - (min_signature_size % l) + l # start at next multiple of l\n",
    "    for s in range(start_size, max_signature_size, l):\n",
    "        mylsh = lsh.LSHMinHash(mentions=mentions, shingle_size=shingle_size, signature_size=s, band_length=l)\n",
    "\n",
    "        mylsh.cluster()\n",
    "        candidates = {mention: [mentions[i] for i in mylsh.candidates[idx]]  for idx, mention in mentions.items()}\n",
    "\n",
    "        m = evaluate_coref_predictions(pairs_gold, candidates, _return=True)\n",
    "        measurements.append(m)\n",
    "    measure_dict[shingle_size] = measurements\n"
   ]
  },
  {
   "cell_type": "code",
   "execution_count": 7,
   "metadata": {},
   "outputs": [],
   "source": [
    "md = {k: [\n",
    "    [1 - i[0] for i in measures], # fpr\n",
    "    [i[1] for i in measures] # recall\n",
    "] for k, measures in measure_dict.items()}\n"
   ]
  },
  {
   "cell_type": "code",
   "execution_count": 8,
   "metadata": {},
   "outputs": [
    {
     "data": {
      "text/plain": [
       "<matplotlib.legend.Legend at 0x7f27fd3a0860>"
      ]
     },
     "execution_count": 8,
     "metadata": {},
     "output_type": "execute_result"
    },
    {
     "data": {
      "image/png": "[encoded data removed]",
      "text/plain": [
       "<Figure size 432x288 with 1 Axes>"
      ]
     },
     "metadata": {
      "needs_background": "light"
     },
     "output_type": "display_data"
    }
   ],
   "source": [
    "fig, ax = plt.subplots()\n",
    "for k, v in md.items():\n",
    "    lbl = f\"shingle size {k}\"\n",
    "    ax.scatter(x=v[0], y=v[1], label=lbl)\n",
    "\n",
    "ax.set_xlabel(\"False positive rate\")\n",
    "ax.set_ylabel(\"Recall\")\n",
    "ax.set_title(\"ROC\")\n",
    "ax.legend()"
   ]
  },
  {
   "attachments": {},
   "cell_type": "markdown",
   "metadata": {},
   "source": [
    "Notes \n",
    "- trade off: get the same recall for smaller false positive rate with larger shingle size, but need a larger signature and thus more time \n",
    "    - improve the calculation of the signature?\n",
    "    - another benefit however is that with a smaller false positive rate, the `with_coref` call in REL will be faster (smaller comparison sets)\n",
    "    - also important: higher false positive rate means more comparisons also for those mentions that are *not* coreferences (and are not in the present dataset).\n",
    "- add color shading for shingle size? --\n",
    "- the can look like they have a negative slope (particularly for shingle size 4). Not sure why. Also happened when I varied the band lengths. does it have to do with the ordering of the input to the plot? "
   ]
  },
  {
   "attachments": {},
   "cell_type": "markdown",
   "metadata": {},
   "source": [
    "#### Profiling"
   ]
  },
  {
   "cell_type": "code",
   "execution_count": 9,
   "metadata": {},
   "outputs": [],
   "source": [
    "\n",
    "# stack mentions on top of each other \n",
    "mentions_scaled = copy.copy(mentions)\n",
    "\n",
    "idx = len(mentions_scaled)\n",
    "for i in range(1, scaling_factor):\n",
    "    for idx_old in mentions.keys():\n",
    "        m = mentions[idx_old]\n",
    "        mentions_scaled[idx] = m \n",
    "        idx += 1"
   ]
  },
  {
   "cell_type": "code",
   "execution_count": 61,
   "metadata": {},
   "outputs": [
    {
     "name": "stdout",
     "output_type": "stream",
     "text": [
      "         1576738 function calls in 6.023 seconds\n",
      "\n",
      "   Ordered by: standard name\n",
      "\n",
      "   ncalls  tottime  percall  cumtime  percall filename:lineno(function)\n",
      "        1    0.000    0.000    6.023    6.023 <string>:1(<module>)\n",
      "        1    1.901    1.901    2.086    2.086 lsh.py:155(_min_hash)\n",
      "        1    0.000    0.000    0.000    0.000 lsh.py:156(<dictcomp>)\n",
      "        1    0.000    0.000    0.071    0.071 lsh.py:178(_make_bands)\n",
      "        1    3.778    3.778    3.780    3.780 lsh.py:183(_make_clusters)\n",
      "        1    0.000    0.000    0.000    0.000 lsh.py:184(<dictcomp>)\n",
      "      870    0.066    0.000    0.071    0.000 lsh.py:19(partition_signature)\n",
      "        1    0.000    0.000    6.023    6.023 lsh.py:203(cluster)\n",
      "        1    0.000    0.000    0.000    0.000 lsh.py:78(_build_vocab)\n",
      "        1    0.000    0.000    0.000    0.000 lsh.py:79(<listcomp>)\n",
      "        1    0.000    0.000    0.000    0.000 lsh.py:80(<listcomp>)\n",
      "        1    0.001    0.001    0.086    0.086 lsh.py:83(encode_binary)\n",
      "      870    0.085    0.000    0.085    0.000 lsh.py:85(<listcomp>)\n",
      "   263700    0.079    0.000    0.115    0.000 random.py:223(_randbelow)\n",
      "      300    0.049    0.000    0.163    0.001 random.py:263(shuffle)\n",
      "        1    0.000    0.000    6.023    6.023 {built-in method builtins.exec}\n",
      "   264781    0.011    0.000    0.011    0.000 {built-in method builtins.len}\n",
      "        2    0.000    0.000    0.000    0.000 {built-in method time.time}\n",
      "   401280    0.017    0.000    0.017    0.000 {method 'append' of 'list' objects}\n",
      "   263700    0.009    0.000    0.009    0.000 {method 'bit_length' of 'int' objects}\n",
      "        1    0.000    0.000    0.000    0.000 {method 'disable' of '_lsprof.Profiler' objects}\n",
      "   380045    0.027    0.000    0.027    0.000 {method 'getrandbits' of '_random.Random' objects}\n",
      "     1173    0.000    0.000    0.000    0.000 {method 'items' of 'dict' objects}\n",
      "        3    0.000    0.000    0.000    0.000 {method 'keys' of 'dict' objects}\n",
      "        1    0.000    0.000    0.000    0.000 {method 'values' of 'dict' objects}\n",
      "\n",
      "\n"
     ]
    }
   ],
   "source": [
    "mylsh = lsh.LSHMinHash_nonp(mentions=mentions_scaled, shingle_size=4, signature_size=300, n_buckets=2)\n",
    "cProfile.run(\"mylsh.cluster()\")"
   ]
  },
  {
   "cell_type": "code",
   "execution_count": 10,
   "metadata": {},
   "outputs": [
    {
     "name": "stdout",
     "output_type": "stream",
     "text": [
      "         853320 function calls (829060 primitive calls) in 1.340 seconds\n",
      "\n",
      "   Ordered by: standard name\n",
      "\n",
      "   ncalls  tottime  percall  cumtime  percall filename:lineno(function)\n",
      "      150    0.000    0.000    0.005    0.000 <__array_function__ internals>:2(argsort)\n",
      "      151    0.000    0.000    0.044    0.000 <__array_function__ internals>:2(array_split)\n",
      "      153    0.000    0.000    0.003    0.000 <__array_function__ internals>:2(concatenate)\n",
      "      150    0.000    0.000    0.000    0.000 <__array_function__ internals>:2(copyto)\n",
      "      300    0.000    0.000    0.002    0.000 <__array_function__ internals>:2(cumsum)\n",
      "      150    0.000    0.000    0.001    0.000 <__array_function__ internals>:2(diff)\n",
      "      300    0.000    0.000    0.001    0.000 <__array_function__ internals>:2(empty_like)\n",
      "      300    0.000    0.000    0.001    0.000 <__array_function__ internals>:2(fliplr)\n",
      "      300    0.001    0.000    0.001    0.000 <__array_function__ internals>:2(ndim)\n",
      "      150    0.000    0.000    0.000    0.000 <__array_function__ internals>:2(nonzero)\n",
      "      151    0.000    0.000    0.044    0.000 <__array_function__ internals>:2(split)\n",
      "        2    0.000    0.000    0.031    0.016 <__array_function__ internals>:2(stack)\n",
      "    24407    0.006    0.000    0.029    0.000 <__array_function__ internals>:2(swapaxes)\n",
      "      150    0.000    0.000    0.002    0.000 <__array_function__ internals>:2(tile)\n",
      "        1    0.000    0.000    1.416    1.416 <string>:1(<module>)\n",
      "     1620    0.000    0.000    0.028    0.000 _asarray.py:86(asanyarray)\n",
      "        2    0.000    0.000    0.000    0.000 _ufunc_config.py:132(geterr)\n",
      "        2    0.000    0.000    0.000    0.000 _ufunc_config.py:32(seterr)\n",
      "        1    0.000    0.000    0.000    0.000 _ufunc_config.py:433(__enter__)\n",
      "        1    0.000    0.000    0.000    0.000 _ufunc_config.py:438(__exit__)\n",
      "        2    0.000    0.000    0.000    0.000 _weakrefset.py:70(__contains__)\n",
      "        1    0.000    0.000    0.000    0.000 abc.py:180(__instancecheck__)\n",
      "        1    0.000    0.000    0.000    0.000 contextlib.py:36(_recreate_cm)\n",
      "        1    0.000    0.000    0.000    0.000 contextlib.py:49(inner)\n",
      "      150    0.000    0.000    0.000    0.000 fromnumeric.py:1812(_nonzero_dispatcher)\n",
      "      150    0.000    0.000    0.000    0.000 fromnumeric.py:1816(nonzero)\n",
      "      300    0.000    0.000    0.000    0.000 fromnumeric.py:2414(_cumsum_dispatcher)\n",
      "      300    0.000    0.000    0.002    0.000 fromnumeric.py:2418(cumsum)\n",
      "      300    0.000    0.000    0.000    0.000 fromnumeric.py:3071(_ndim_dispatcher)\n",
      "      300    0.000    0.000    0.000    0.000 fromnumeric.py:3075(ndim)\n",
      "    25007    0.005    0.000    0.018    0.000 fromnumeric.py:52(_wrapfunc)\n",
      "    24407    0.001    0.000    0.001    0.000 fromnumeric.py:546(_swapaxes_dispatcher)\n",
      "    24407    0.005    0.000    0.016    0.000 fromnumeric.py:550(swapaxes)\n",
      "      150    0.000    0.000    0.000    0.000 fromnumeric.py:995(_argsort_dispatcher)\n",
      "      150    0.000    0.000    0.005    0.000 fromnumeric.py:999(argsort)\n",
      "      150    0.000    0.000    0.000    0.000 function_base.py:1148(_diff_dispatcher)\n",
      "      150    0.001    0.000    0.001    0.000 function_base.py:1152(diff)\n",
      "        1    0.004    0.004    1.111    1.111 lsh.py:247(make_signature)\n",
      "        1    0.090    0.090    0.197    0.197 lsh.py:261(get_candidates)\n",
      "        1    0.000    0.000    0.000    0.000 lsh.py:265(<listcomp>)\n",
      "      150    0.001    0.000    0.001    0.000 lsh.py:270(<listcomp>)\n",
      "        1    0.002    0.002    1.416    1.416 lsh.py:280(cluster)\n",
      "      150    0.010    0.000    0.015    0.000 lsh.py:29(cols_to_int)\n",
      "      150    0.000    0.000    0.000    0.000 lsh.py:36(<listcomp>)\n",
      "      150    0.001    0.000    0.067    0.000 lsh.py:59(idx_unique_multidim)\n",
      "        1    0.000    0.000    0.000    0.000 lsh.py:82(_build_vocab)\n",
      "        1    0.000    0.000    0.000    0.000 lsh.py:84(<listcomp>)\n",
      "        1    0.000    0.000    0.106    0.106 lsh.py:87(encode_binary)\n",
      "        1    0.000    0.000    0.076    0.076 lsh.py:88(<listcomp>)\n",
      "      150    0.000    0.000    0.000    0.000 multiarray.py:1043(copyto)\n",
      "      153    0.000    0.000    0.000    0.000 multiarray.py:143(concatenate)\n",
      "      300    0.000    0.000    0.000    0.000 multiarray.py:75(empty_like)\n",
      "      150    0.000    0.000    0.001    0.000 numeric.py:144(ones)\n",
      "      150    0.000    0.000    0.000    0.000 shape_base.py:1167(_tile_dispatcher)\n",
      "      150    0.001    0.000    0.002    0.000 shape_base.py:1171(tile)\n",
      "      300    0.000    0.000    0.000    0.000 shape_base.py:1243(<genexpr>)\n",
      "      450    0.000    0.000    0.000    0.000 shape_base.py:1253(<genexpr>)\n",
      "        2    0.000    0.000    0.000    0.000 shape_base.py:208(_arrays_for_stack_dispatcher)\n",
      "        2    0.000    0.000    0.000    0.000 shape_base.py:349(_stack_dispatcher)\n",
      "        2    0.000    0.000    0.031    0.015 shape_base.py:358(stack)\n",
      "        2    0.000    0.000    0.028    0.014 shape_base.py:421(<listcomp>)\n",
      "        2    0.000    0.000    0.000    0.000 shape_base.py:425(<setcomp>)\n",
      "        2    0.000    0.000    0.000    0.000 shape_base.py:433(<listcomp>)\n",
      "      151    0.000    0.000    0.000    0.000 shape_base.py:735(_array_split_dispatcher)\n",
      "      151    0.014    0.000    0.043    0.000 shape_base.py:739(array_split)\n",
      "      151    0.000    0.000    0.000    0.000 shape_base.py:795(_split_dispatcher)\n",
      "      151    0.000    0.000    0.044    0.000 shape_base.py:799(split)\n",
      "      300    0.000    0.000    0.000    0.000 twodim_base.py:42(_flip_dispatcher)\n",
      "      300    0.000    0.000    0.000    0.000 twodim_base.py:46(fliplr)\n",
      "      150    0.000    0.000    0.000    0.000 {built-in method builtins.all}\n",
      "        1    0.000    0.000    0.000    0.000 {built-in method builtins.divmod}\n",
      "        1    0.000    0.000    1.416    1.416 {built-in method builtins.exec}\n",
      "    25007    0.002    0.000    0.002    0.000 {built-in method builtins.getattr}\n",
      "        2    0.000    0.000    0.000    0.000 {built-in method builtins.hasattr}\n",
      "      604    0.000    0.000    0.000    0.000 {built-in method builtins.len}\n",
      "     1771    0.028    0.000    0.028    0.000 {built-in method numpy.array}\n",
      "26814/2554    0.011    0.000    0.088    0.000 {built-in method numpy.core._multiarray_umath.implement_array_function}\n",
      "      152    0.000    0.000    0.000    0.000 {built-in method numpy.core._multiarray_umath.normalize_axis_index}\n",
      "      150    0.000    0.000    0.000    0.000 {built-in method numpy.empty}\n",
      "        4    0.000    0.000    0.000    0.000 {built-in method numpy.geterrobj}\n",
      "        2    0.000    0.000    0.000    0.000 {built-in method numpy.seterrobj}\n",
      "        2    0.000    0.000    0.000    0.000 {built-in method time.time}\n",
      "   640050    0.038    0.000    0.038    0.000 {method 'add' of 'set' objects}\n",
      "    24406    0.001    0.000    0.001    0.000 {method 'append' of 'list' objects}\n",
      "      300    0.093    0.000    0.093    0.000 {method 'argmax' of 'numpy.ndarray' objects}\n",
      "      150    0.005    0.000    0.005    0.000 {method 'argsort' of 'numpy.ndarray' objects}\n",
      "      301    0.001    0.000    0.001    0.000 {method 'cumsum' of 'numpy.ndarray' objects}\n",
      "        1    0.000    0.000    0.000    0.000 {method 'disable' of '_lsprof.Profiler' objects}\n",
      "      150    0.000    0.000    0.000    0.000 {method 'nonzero' of 'numpy.ndarray' objects}\n",
      "      150    0.000    0.000    0.000    0.000 {method 'repeat' of 'numpy.ndarray' objects}\n",
      "      300    0.000    0.000    0.000    0.000 {method 'reshape' of 'numpy.ndarray' objects}\n",
      "      300    1.009    0.003    1.012    0.003 {method 'shuffle' of 'numpy.random._generator.Generator' objects}\n",
      "      150    0.000    0.000    0.000    0.000 {method 'squeeze' of 'numpy.ndarray' objects}\n",
      "    24407    0.005    0.000    0.005    0.000 {method 'swapaxes' of 'numpy.ndarray' objects}\n",
      "        1    0.000    0.000    0.000    0.000 {numpy.random._generator.default_rng}\n",
      "\n",
      "\n"
     ]
    }
   ],
   "source": [
    "mylsh = lsh.LSHMinHash(mentions=mentions_scaled, shingle_size=4, signature_size=300, band_length=2)\n",
    "\n",
    "cProfile.run(\"mylsh.cluster()\")"
   ]
  },
  {
   "attachments": {},
   "cell_type": "markdown",
   "metadata": {},
   "source": [
    "#### Time analysis for sorting multidimensional array along one axis"
   ]
  },
  {
   "cell_type": "code",
   "execution_count": null,
   "metadata": {},
   "outputs": [],
   "source": [
    "# keep this for some time analysis\n",
    "    # mult before sort -- adapt from the now helper function cols_to_int\n",
    "x = np.array([[0, 3], [2, 2], [2, 2], [0, 3]]) \n",
    "x = np.array([[1, 3], [2, 2], [2, 2], [1, 3], [1, 5], [1, 1]]) # this is one test case\n",
    "A = np.array([[3,4], [3,5], [5,6], [3,4], [6,7]]) # this is another test case\n",
    "\n",
    "display(A)\n",
    "display(np.argsort(A, axis=0))\n",
    "display(A.view('i8,i8').argsort(order=['f1'], axis=0))\n",
    "\n",
    "display(x)\n",
    "display(np.argsort(x, axis=0))\n",
    "display(x.view('i8,i8').argsort(order=['f1'], axis=0))\n",
    "\n",
    "\n",
    "n = 100_000\n",
    "A = np.random.choice(np.arange(int(n/100)), size=(n,2))\n",
    "%timeit np.argsort(A, axis=0)\n",
    "%timeit A.view('i8,i8').argsort(order=['f1'], axis=0)\n",
    "%timeit mult_before_sort(A)"
   ]
  },
  {
   "cell_type": "code",
   "execution_count": null,
   "metadata": {},
   "outputs": [],
   "source": []
  }
 ],
 "metadata": {
  "kernelspec": {
   "display_name": "Python 3",
   "language": "python",
   "name": "python3"
  },
  "language_info": {
   "codemirror_mode": {
    "name": "ipython",
    "version": 3
   },
   "file_extension": ".py",
   "mimetype": "text/x-python",
   "name": "python",
   "nbconvert_exporter": "python",
   "pygments_lexer": "ipython3",
   "version": "3.6.13"
  },
  "orig_nbformat": 4,
  "vscode": {
   "interpreter": {
    "hash": "541f9b2bd2e07a99fbe19519917a2a847d7149d43292ee48064a4037dd0b7699"
   }
  }
 },
 "nbformat": 4,
 "nbformat_minor": 2
}
