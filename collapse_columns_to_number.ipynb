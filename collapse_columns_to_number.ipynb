{
 "cells": [
  {
   "attachments": {},
   "cell_type": "markdown",
   "metadata": {},
   "source": [
    "LSH with numpy"
   ]
  },
  {
   "cell_type": "code",
   "execution_count": 58,
   "metadata": {},
   "outputs": [],
   "source": [
    "import numpy as np "
   ]
  },
  {
   "attachments": {},
   "cell_type": "markdown",
   "metadata": {},
   "source": [
    "## Converting multiple columns to single unique number: How does it work?\n",
    "\n",
    "Idea: stack the numbers from left to right next to each other, so that `A=[3, 10]` becomes `[310]`. We want each entry in the final array (before the summation) to be one order of magnitude larger than the neighbor to the right. For this we need to know which power of 10 each entry in the original array is. At the end, we will multiply `A` by the following multiplication factor: `[100, 1]`, that is `[1e2, 1e0]`.\n",
    "\n",
    "1. Take log10 of the existing array to know the existing powers: `[0, 1]`\n",
    "2. Take cumulative sum in a row from right to left, which yields `[1, 1]`. \n",
    "3. Build the multiplication factor\n",
    "    1. We add one order of magnitude going from right to left: `required_power = [1e1, 1e0]`.\n",
    "    2. Because we have a 10 preceding the 3, we need to add another order of magnitude to the multiplication factor for 3. More generally, we can do this by taking `cumsum - existing_powers`\n",
    "    3. The multiplication factor is `cumsum - existing_power + required_powers`\n"
   ]
  },
  {
   "cell_type": "code",
   "execution_count": 59,
   "metadata": {},
   "outputs": [
    {
     "name": "stdout",
     "output_type": "stream",
     "text": [
      "sum_powers: \n",
      " [[1. 1. 1.]\n",
      " [2. 1. 0.]\n",
      " [3. 3. 1.]]\n",
      "1410.0\n",
      "14123.0\n",
      "110039.0\n"
     ]
    }
   ],
   "source": [
    "a = np.array([[1,4,10], [14, 12, 3], [1, 100, 39]])\n",
    "existing_powers = np.floor(np.log10(a)) \n",
    "n_positions = a.shape[1]\n",
    "n_mentions = a.shape[0]\n",
    "\n",
    "cumsum_powers = np.fliplr(np.cumsum(np.fliplr(existing_powers), axis=1))\n",
    "print(f\"sum_powers: \\n {cumsum_powers}\")\n",
    "\n",
    "req_powers = [x for x in reversed(range(n_positions))]\n",
    "req_powers = np.tile(req_powers, (n_mentions, 1))\n",
    "\n",
    "mult_factor = cumsum_powers - existing_powers + req_powers  \n",
    "summationvector = np.ones((n_positions, 1)) \n",
    "out = np.matmul(a * 10**mult_factor, summationvector)\n",
    "\n",
    "for i in range(out.shape[0]):\n",
    "    print(\"\".join(str(x) for x in out[i,])) "
   ]
  }
 ],
 "metadata": {
  "kernelspec": {
   "display_name": "Python 3",
   "language": "python",
   "name": "python3"
  },
  "language_info": {
   "codemirror_mode": {
    "name": "ipython",
    "version": 3
   },
   "file_extension": ".py",
   "mimetype": "text/x-python",
   "name": "python",
   "nbconvert_exporter": "python",
   "pygments_lexer": "ipython3",
   "version": "3.6.13"
  },
  "orig_nbformat": 4,
  "vscode": {
   "interpreter": {
    "hash": "541f9b2bd2e07a99fbe19519917a2a847d7149d43292ee48064a4037dd0b7699"
   }
  }
 },
 "nbformat": 4,
 "nbformat_minor": 2
}
