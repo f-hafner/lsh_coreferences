{
 "cells": [
  {
   "attachments": {},
   "cell_type": "markdown",
   "metadata": {},
   "source": [
    "# Performance of LSH on coreferences"
   ]
  },
  {
   "cell_type": "code",
   "execution_count": 1,
   "metadata": {},
   "outputs": [],
   "source": [
    "from load_coreferences import load_coreferences, load_pairs\n",
    "import lsh \n",
    "import copy\n",
    "import numpy as np\n",
    "import time \n",
    "\n",
    "import cProfile\n",
    "\n",
    "scaling_factor = 5 # multiply size the original data set by this factor"
   ]
  },
  {
   "cell_type": "code",
   "execution_count": 4,
   "metadata": {},
   "outputs": [],
   "source": [
    "all_pairs = load_pairs()\n",
    "raw_mentions = load_coreferences()\n",
    "mentions = {i: m for i, m in enumerate(raw_mentions)}\n"
   ]
  },
  {
   "attachments": {},
   "cell_type": "markdown",
   "metadata": {},
   "source": [
    "#### Effectiveness"
   ]
  },
  {
   "cell_type": "code",
   "execution_count": 56,
   "metadata": {},
   "outputs": [],
   "source": [
    "def evaluate_coref_predictions(pairs_gold, candidates):\n",
    "    \"Precision and recall for LSH coref pair search\"\n",
    "    missed = 0 \n",
    "    correct = 0 \n",
    "    wrong = 0\n",
    "\n",
    "    for mention, true_reference in pairs_gold.items():\n",
    "        current_candidates = candidates[mention]\n",
    "\n",
    "        if true_reference not in current_candidates:\n",
    "            missed += 1\n",
    "        for candidate in current_candidates:\n",
    "            if candidate == true_reference:\n",
    "                correct += 1\n",
    "            elif candidate != true_reference:\n",
    "                wrong += 1\n",
    "\n",
    "\n",
    "    precision = correct / (correct + wrong)\n",
    "    recall = correct / (correct + missed)\n",
    "\n",
    "    ndig = 3\n",
    "    print(f\"Precision: {round(precision, ndig)}\") # note: lower precision means larger comparison set for coref classification.\n",
    "    print(f\"Recall: {round(recall, ndig)}\") "
   ]
  },
  {
   "cell_type": "code",
   "execution_count": 36,
   "metadata": {},
   "outputs": [],
   "source": [
    "pairs_gold = {}\n",
    "for pair_doc in all_pairs.values():\n",
    "    for p in pair_doc:\n",
    "        pairs_gold[p[1]] = p[0] # key = mention, value = true coreference\n",
    "\n"
   ]
  },
  {
   "cell_type": "code",
   "execution_count": 57,
   "metadata": {},
   "outputs": [
    {
     "name": "stdout",
     "output_type": "stream",
     "text": [
      "took 0.14416813850402832 seconds for 174 mentions\n",
      "average, min, max cluster size: 3.92, 2, 17\n",
      "Precision: 0.282\n",
      "Recall: 1.0\n"
     ]
    }
   ],
   "source": [
    "mylsh = lsh.LSHMinHash(mentions=mentions, shingle_size=3, signature_size=150, band_length=2)\n",
    "\n",
    "mylsh.cluster()\n",
    "mylsh.summarise()\n",
    "candidates = {mention: [mentions[i] for i in mylsh.candidates[idx]]  for idx, mention in mentions.items()}\n",
    "\n",
    "evaluate_coref_predictions(pairs_gold, candidates)\n"
   ]
  },
  {
   "attachments": {},
   "cell_type": "markdown",
   "metadata": {},
   "source": [
    "Properties    \n",
    "- longer signature $\\rightarrow$ higher recall, lower precision\n",
    "- larger shingle $\\rightarrow$ lower recall, higher precision\n",
    "- longer band $\\rightarrow$ lower recall, higher precision\n",
    "\n",
    "**$\\Rightarrow$ make ROC curve?**"
   ]
  },
  {
   "attachments": {},
   "cell_type": "markdown",
   "metadata": {},
   "source": [
    "#### Profiling"
   ]
  },
  {
   "cell_type": "code",
   "execution_count": 51,
   "metadata": {},
   "outputs": [],
   "source": [
    "\n",
    "# stack mentions on top of each other \n",
    "mentions_scaled = copy.copy(mentions)\n",
    "\n",
    "idx = len(mentions_scaled)\n",
    "for i in range(1, scaling_factor):\n",
    "    for idx_old in mentions.keys():\n",
    "        m = mentions[idx_old]\n",
    "        mentions_scaled[idx] = m \n",
    "        idx += 1"
   ]
  },
  {
   "cell_type": "code",
   "execution_count": 52,
   "metadata": {},
   "outputs": [
    {
     "name": "stdout",
     "output_type": "stream",
     "text": [
      "         991995 function calls in 4.115 seconds\n",
      "\n",
      "   Ordered by: standard name\n",
      "\n",
      "   ncalls  tottime  percall  cumtime  percall filename:lineno(function)\n",
      "        1    0.000    0.000    4.115    4.115 <string>:1(<module>)\n",
      "        1    0.975    0.975    1.094    1.094 lsh.py:155(_min_hash)\n",
      "        1    0.000    0.000    0.000    0.000 lsh.py:156(<dictcomp>)\n",
      "        1    0.000    0.000    0.056    0.056 lsh.py:178(_make_bands)\n",
      "        1    2.875    2.875    2.878    2.878 lsh.py:183(_make_clusters)\n",
      "        1    0.000    0.000    0.000    0.000 lsh.py:184(<dictcomp>)\n",
      "      870    0.053    0.000    0.056    0.000 lsh.py:19(partition_signature)\n",
      "        1    0.000    0.000    4.115    4.115 lsh.py:203(cluster)\n",
      "        1    0.000    0.000    0.001    0.001 lsh.py:78(_build_vocab)\n",
      "        1    0.000    0.000    0.000    0.000 lsh.py:79(<listcomp>)\n",
      "        1    0.000    0.000    0.000    0.000 lsh.py:80(<listcomp>)\n",
      "        1    0.001    0.001    0.086    0.086 lsh.py:83(encode_binary)\n",
      "      870    0.086    0.000    0.086    0.000 lsh.py:85(<listcomp>)\n",
      "   154000    0.050    0.000    0.072    0.000 random.py:223(_randbelow)\n",
      "      200    0.032    0.000    0.104    0.001 random.py:263(shuffle)\n",
      "        1    0.000    0.000    4.115    4.115 {built-in method builtins.exec}\n",
      "   177681    0.008    0.000    0.008    0.000 {built-in method builtins.len}\n",
      "        2    0.000    0.000    0.000    0.000 {built-in method time.time}\n",
      "   277480    0.011    0.000    0.011    0.000 {method 'append' of 'list' objects}\n",
      "   154000    0.005    0.000    0.005    0.000 {method 'bit_length' of 'int' objects}\n",
      "        1    0.000    0.000    0.000    0.000 {method 'disable' of '_lsprof.Profiler' objects}\n",
      "   225802    0.017    0.000    0.017    0.000 {method 'getrandbits' of '_random.Random' objects}\n",
      "     1073    0.000    0.000    0.000    0.000 {method 'items' of 'dict' objects}\n",
      "        3    0.000    0.000    0.000    0.000 {method 'keys' of 'dict' objects}\n",
      "        1    0.000    0.000    0.000    0.000 {method 'values' of 'dict' objects}\n",
      "\n",
      "\n"
     ]
    }
   ],
   "source": [
    "mylsh = lsh.LSHMinHash_nonp(mentions=mentions_scaled, shingle_size=3, signature_size=200, n_buckets=2)\n",
    "cProfile.run(\"mylsh.cluster()\")"
   ]
  },
  {
   "cell_type": "code",
   "execution_count": 53,
   "metadata": {},
   "outputs": [
    {
     "name": "stdout",
     "output_type": "stream",
     "text": [
      "         213647 function calls (199817 primitive calls) in 0.375 seconds\n",
      "\n",
      "   Ordered by: standard name\n",
      "\n",
      "   ncalls  tottime  percall  cumtime  percall filename:lineno(function)\n",
      "      100    0.000    0.000    0.003    0.000 <__array_function__ internals>:2(argsort)\n",
      "      101    0.000    0.000    0.025    0.000 <__array_function__ internals>:2(array_split)\n",
      "      103    0.000    0.000    0.002    0.000 <__array_function__ internals>:2(concatenate)\n",
      "      100    0.000    0.000    0.000    0.000 <__array_function__ internals>:2(copyto)\n",
      "      200    0.000    0.000    0.001    0.000 <__array_function__ internals>:2(cumsum)\n",
      "      100    0.000    0.000    0.001    0.000 <__array_function__ internals>:2(diff)\n",
      "      200    0.000    0.000    0.000    0.000 <__array_function__ internals>:2(empty_like)\n",
      "      200    0.000    0.000    0.000    0.000 <__array_function__ internals>:2(fliplr)\n",
      "      200    0.000    0.000    0.000    0.000 <__array_function__ internals>:2(ndim)\n",
      "      100    0.000    0.000    0.000    0.000 <__array_function__ internals>:2(nonzero)\n",
      "      101    0.000    0.000    0.026    0.000 <__array_function__ internals>:2(split)\n",
      "        2    0.000    0.000    0.002    0.001 <__array_function__ internals>:2(stack)\n",
      "    13927    0.004    0.000    0.017    0.000 <__array_function__ internals>:2(swapaxes)\n",
      "      100    0.000    0.000    0.001    0.000 <__array_function__ internals>:2(tile)\n",
      "        1    0.000    0.000    0.375    0.375 <string>:1(<module>)\n",
      "     1370    0.000    0.000    0.000    0.000 _asarray.py:86(asanyarray)\n",
      "        2    0.000    0.000    0.000    0.000 _ufunc_config.py:132(geterr)\n",
      "        2    0.000    0.000    0.000    0.000 _ufunc_config.py:32(seterr)\n",
      "        1    0.000    0.000    0.000    0.000 _ufunc_config.py:433(__enter__)\n",
      "        1    0.000    0.000    0.000    0.000 _ufunc_config.py:438(__exit__)\n",
      "        2    0.000    0.000    0.000    0.000 _weakrefset.py:70(__contains__)\n",
      "        1    0.000    0.000    0.000    0.000 abc.py:180(__instancecheck__)\n",
      "        1    0.000    0.000    0.000    0.000 contextlib.py:36(_recreate_cm)\n",
      "        1    0.000    0.000    0.000    0.000 contextlib.py:49(inner)\n",
      "      100    0.000    0.000    0.000    0.000 fromnumeric.py:1812(_nonzero_dispatcher)\n",
      "      100    0.000    0.000    0.000    0.000 fromnumeric.py:1816(nonzero)\n",
      "      200    0.000    0.000    0.000    0.000 fromnumeric.py:2414(_cumsum_dispatcher)\n",
      "      200    0.000    0.000    0.001    0.000 fromnumeric.py:2418(cumsum)\n",
      "      200    0.000    0.000    0.000    0.000 fromnumeric.py:3071(_ndim_dispatcher)\n",
      "      200    0.000    0.000    0.000    0.000 fromnumeric.py:3075(ndim)\n",
      "    14327    0.003    0.000    0.011    0.000 fromnumeric.py:52(_wrapfunc)\n",
      "    13927    0.001    0.000    0.001    0.000 fromnumeric.py:546(_swapaxes_dispatcher)\n",
      "    13927    0.003    0.000    0.009    0.000 fromnumeric.py:550(swapaxes)\n",
      "      100    0.000    0.000    0.000    0.000 fromnumeric.py:995(_argsort_dispatcher)\n",
      "      100    0.000    0.000    0.003    0.000 fromnumeric.py:999(argsort)\n",
      "      100    0.000    0.000    0.000    0.000 function_base.py:1148(_diff_dispatcher)\n",
      "      100    0.000    0.000    0.001    0.000 function_base.py:1152(diff)\n",
      "        1    0.042    0.042    0.045    0.045 lsh.py:230(encode_to_np)\n",
      "        1    0.001    0.001    0.191    0.191 lsh.py:243(make_signature)\n",
      "        1    0.034    0.034    0.138    0.138 lsh.py:257(get_candidates)\n",
      "        1    0.000    0.000    0.000    0.000 lsh.py:261(<dictcomp>)\n",
      "      100    0.001    0.000    0.001    0.000 lsh.py:265(<listcomp>)\n",
      "        1    0.024    0.024    0.038    0.038 lsh.py:271(<dictcomp>)\n",
      "      870    0.015    0.000    0.015    0.000 lsh.py:271(<listcomp>)\n",
      "        1    0.000    0.000    0.375    0.375 lsh.py:274(cluster)\n",
      "      100    0.027    0.000    0.030    0.000 lsh.py:29(cols_to_int)\n",
      "      100    0.000    0.000    0.000    0.000 lsh.py:36(<listcomp>)\n",
      "      100    0.001    0.000    0.061    0.001 lsh.py:59(idx_unique_multidim)\n",
      "        1    0.000    0.000    0.000    0.000 lsh.py:78(_build_vocab)\n",
      "        1    0.000    0.000    0.000    0.000 lsh.py:79(<listcomp>)\n",
      "        1    0.000    0.000    0.000    0.000 lsh.py:80(<listcomp>)\n",
      "      100    0.000    0.000    0.000    0.000 multiarray.py:1043(copyto)\n",
      "      103    0.000    0.000    0.000    0.000 multiarray.py:143(concatenate)\n",
      "      200    0.000    0.000    0.000    0.000 multiarray.py:75(empty_like)\n",
      "      100    0.000    0.000    0.000    0.000 numeric.py:144(ones)\n",
      "      100    0.000    0.000    0.000    0.000 shape_base.py:1167(_tile_dispatcher)\n",
      "      100    0.001    0.000    0.001    0.000 shape_base.py:1171(tile)\n",
      "      200    0.000    0.000    0.000    0.000 shape_base.py:1243(<genexpr>)\n",
      "      300    0.000    0.000    0.000    0.000 shape_base.py:1253(<genexpr>)\n",
      "        2    0.000    0.000    0.000    0.000 shape_base.py:208(_arrays_for_stack_dispatcher)\n",
      "        2    0.000    0.000    0.000    0.000 shape_base.py:349(_stack_dispatcher)\n",
      "        2    0.000    0.000    0.002    0.001 shape_base.py:358(stack)\n",
      "        2    0.000    0.000    0.000    0.000 shape_base.py:421(<listcomp>)\n",
      "        2    0.000    0.000    0.000    0.000 shape_base.py:425(<setcomp>)\n",
      "        2    0.000    0.000    0.000    0.000 shape_base.py:433(<listcomp>)\n",
      "      101    0.000    0.000    0.000    0.000 shape_base.py:735(_array_split_dispatcher)\n",
      "      101    0.008    0.000    0.025    0.000 shape_base.py:739(array_split)\n",
      "      101    0.000    0.000    0.000    0.000 shape_base.py:795(_split_dispatcher)\n",
      "      101    0.000    0.000    0.025    0.000 shape_base.py:799(split)\n",
      "      200    0.000    0.000    0.000    0.000 twodim_base.py:42(_flip_dispatcher)\n",
      "      200    0.000    0.000    0.000    0.000 twodim_base.py:46(fliplr)\n",
      "      100    0.000    0.000    0.000    0.000 {built-in method builtins.all}\n",
      "        1    0.000    0.000    0.000    0.000 {built-in method builtins.divmod}\n",
      "        1    0.000    0.000    0.375    0.375 {built-in method builtins.exec}\n",
      "    14327    0.001    0.000    0.001    0.000 {built-in method builtins.getattr}\n",
      "        2    0.000    0.000    0.000    0.000 {built-in method builtins.hasattr}\n",
      "      405    0.000    0.000    0.000    0.000 {built-in method builtins.len}\n",
      "      870    0.001    0.000    0.001    0.000 {built-in method numpy.arange}\n",
      "     1471    0.000    0.000    0.000    0.000 {built-in method numpy.array}\n",
      "15534/1704    0.006    0.000    0.036    0.000 {built-in method numpy.core._multiarray_umath.implement_array_function}\n",
      "      102    0.000    0.000    0.000    0.000 {built-in method numpy.core._multiarray_umath.normalize_axis_index}\n",
      "      100    0.000    0.000    0.000    0.000 {built-in method numpy.empty}\n",
      "        4    0.000    0.000    0.000    0.000 {built-in method numpy.geterrobj}\n",
      "        2    0.000    0.000    0.000    0.000 {built-in method numpy.seterrobj}\n",
      "      870    0.001    0.000    0.001    0.000 {built-in method numpy.zeros}\n",
      "        2    0.000    0.000    0.000    0.000 {built-in method time.time}\n",
      "   100926    0.004    0.000    0.004    0.000 {method 'append' of 'list' objects}\n",
      "      200    0.023    0.000    0.023    0.000 {method 'argmax' of 'numpy.ndarray' objects}\n",
      "      100    0.003    0.000    0.003    0.000 {method 'argsort' of 'numpy.ndarray' objects}\n",
      "      201    0.001    0.000    0.001    0.000 {method 'cumsum' of 'numpy.ndarray' objects}\n",
      "        1    0.000    0.000    0.000    0.000 {method 'disable' of '_lsprof.Profiler' objects}\n",
      "        2    0.000    0.000    0.000    0.000 {method 'items' of 'dict' objects}\n",
      "        1    0.000    0.000    0.000    0.000 {method 'keys' of 'dict' objects}\n",
      "      100    0.000    0.000    0.000    0.000 {method 'nonzero' of 'numpy.ndarray' objects}\n",
      "      100    0.000    0.000    0.000    0.000 {method 'repeat' of 'numpy.ndarray' objects}\n",
      "      200    0.000    0.000    0.000    0.000 {method 'reshape' of 'numpy.ndarray' objects}\n",
      "      200    0.164    0.001    0.166    0.001 {method 'shuffle' of 'numpy.random._generator.Generator' objects}\n",
      "      100    0.000    0.000    0.000    0.000 {method 'squeeze' of 'numpy.ndarray' objects}\n",
      "    13927    0.003    0.000    0.003    0.000 {method 'swapaxes' of 'numpy.ndarray' objects}\n",
      "        2    0.000    0.000    0.000    0.000 {method 'values' of 'dict' objects}\n",
      "        1    0.000    0.000    0.000    0.000 {numpy.random._generator.default_rng}\n",
      "\n",
      "\n"
     ]
    }
   ],
   "source": [
    "mylsh = lsh.LSHMinHash(mentions=mentions_scaled, shingle_size=2, signature_size=200, band_length=2)\n",
    "\n",
    "cProfile.run(\"mylsh.cluster()\")"
   ]
  },
  {
   "attachments": {},
   "cell_type": "markdown",
   "metadata": {},
   "source": [
    "#### Time analysis for sorting multidimensional array along one axis"
   ]
  },
  {
   "cell_type": "code",
   "execution_count": null,
   "metadata": {},
   "outputs": [],
   "source": [
    "# keep this for some time analysis\n",
    "    # mult before sort -- adapt from the now helper function cols_to_int\n",
    "x = np.array([[0, 3], [2, 2], [2, 2], [0, 3]]) \n",
    "x = np.array([[1, 3], [2, 2], [2, 2], [1, 3], [1, 5], [1, 1]]) # this is one test case\n",
    "A = np.array([[3,4], [3,5], [5,6], [3,4], [6,7]]) # this is another test case\n",
    "\n",
    "display(A)\n",
    "display(np.argsort(A, axis=0))\n",
    "display(A.view('i8,i8').argsort(order=['f1'], axis=0))\n",
    "\n",
    "display(x)\n",
    "display(np.argsort(x, axis=0))\n",
    "display(x.view('i8,i8').argsort(order=['f1'], axis=0))\n",
    "\n",
    "\n",
    "n = 100_000\n",
    "A = np.random.choice(np.arange(int(n/100)), size=(n,2))\n",
    "%timeit np.argsort(A, axis=0)\n",
    "%timeit A.view('i8,i8').argsort(order=['f1'], axis=0)\n",
    "%timeit mult_before_sort(A)"
   ]
  }
 ],
 "metadata": {
  "kernelspec": {
   "display_name": "Python 3",
   "language": "python",
   "name": "python3"
  },
  "language_info": {
   "codemirror_mode": {
    "name": "ipython",
    "version": 3
   },
   "file_extension": ".py",
   "mimetype": "text/x-python",
   "name": "python",
   "nbconvert_exporter": "python",
   "pygments_lexer": "ipython3",
   "version": "3.6.13"
  },
  "orig_nbformat": 4,
  "vscode": {
   "interpreter": {
    "hash": "541f9b2bd2e07a99fbe19519917a2a847d7149d43292ee48064a4037dd0b7699"
   }
  }
 },
 "nbformat": 4,
 "nbformat_minor": 2
}
