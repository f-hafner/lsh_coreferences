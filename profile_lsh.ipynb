{
 "cells": [
  {
   "attachments": {},
   "cell_type": "markdown",
   "metadata": {},
   "source": [
    "# Performance of LSH on coreferences"
   ]
  },
  {
   "cell_type": "code",
   "execution_count": null,
   "metadata": {},
   "outputs": [],
   "source": [
    "from load_coreferences import load_coreferences\n",
    "import lsh \n",
    "import copy\n",
    "import numpy as np\n",
    "import time \n",
    "\n",
    "import cProfile\n",
    "\n",
    "scaling_factor = 5 # multiply size the original data set by this factor"
   ]
  },
  {
   "cell_type": "code",
   "execution_count": null,
   "metadata": {},
   "outputs": [],
   "source": [
    "raw_mentions = load_coreferences()\n",
    "mentions = {i: m for i, m in enumerate(raw_mentions)}\n"
   ]
  },
  {
   "attachments": {},
   "cell_type": "markdown",
   "metadata": {},
   "source": [
    "#### Effectiveness"
   ]
  },
  {
   "attachments": {},
   "cell_type": "markdown",
   "metadata": {},
   "source": [
    "#### Profiling"
   ]
  },
  {
   "cell_type": "code",
   "execution_count": 3,
   "metadata": {},
   "outputs": [],
   "source": [
    "\n",
    "# stack mentions on top of each other \n",
    "\n",
    "mentions_scaled = copy.copy(mentions)\n",
    "\n",
    "idx = len(mentions_scaled)\n",
    "for i in range(1, scaling_factor):\n",
    "    for idx_old in mentions.keys():\n",
    "        m = mentions[idx_old]\n",
    "        mentions_scaled[idx] = m \n",
    "        idx += 1"
   ]
  },
  {
   "cell_type": "code",
   "execution_count": 4,
   "metadata": {},
   "outputs": [
    {
     "name": "stdout",
     "output_type": "stream",
     "text": [
      "         992045 function calls in 3.771 seconds\n",
      "\n",
      "   Ordered by: standard name\n",
      "\n",
      "   ncalls  tottime  percall  cumtime  percall filename:lineno(function)\n",
      "        1    0.000    0.000    3.770    3.770 <string>:1(<module>)\n",
      "        1    0.897    0.897    1.009    1.009 lsh.py:142(_min_hash)\n",
      "        1    0.001    0.001    0.001    0.001 lsh.py:143(<dictcomp>)\n",
      "        1    0.000    0.000    0.043    0.043 lsh.py:165(_make_bands)\n",
      "        1    2.637    2.637    2.639    2.639 lsh.py:170(_make_clusters)\n",
      "        1    0.000    0.000    0.000    0.000 lsh.py:171(<dictcomp>)\n",
      "      870    0.040    0.000    0.043    0.000 lsh.py:19(partition_signature)\n",
      "        1    0.000    0.000    3.770    3.770 lsh.py:190(cluster)\n",
      "        1    0.000    0.000    0.000    0.000 lsh.py:67(_build_vocab)\n",
      "        1    0.000    0.000    0.000    0.000 lsh.py:68(<listcomp>)\n",
      "        1    0.000    0.000    0.000    0.000 lsh.py:69(<listcomp>)\n",
      "        1    0.001    0.001    0.080    0.080 lsh.py:72(encode_binary)\n",
      "      870    0.079    0.000    0.079    0.000 lsh.py:74(<listcomp>)\n",
      "   154000    0.047    0.000    0.068    0.000 random.py:223(_randbelow)\n",
      "      200    0.029    0.000    0.097    0.000 random.py:263(shuffle)\n",
      "        1    0.000    0.000    3.771    3.771 {built-in method builtins.exec}\n",
      "   177681    0.006    0.000    0.006    0.000 {built-in method builtins.len}\n",
      "        2    0.000    0.000    0.000    0.000 {built-in method time.time}\n",
      "   277530    0.011    0.000    0.011    0.000 {method 'append' of 'list' objects}\n",
      "   154000    0.005    0.000    0.005    0.000 {method 'bit_length' of 'int' objects}\n",
      "        1    0.000    0.000    0.000    0.000 {method 'disable' of '_lsprof.Profiler' objects}\n",
      "   225802    0.016    0.000    0.016    0.000 {method 'getrandbits' of '_random.Random' objects}\n",
      "     1073    0.000    0.000    0.000    0.000 {method 'items' of 'dict' objects}\n",
      "        3    0.000    0.000    0.000    0.000 {method 'keys' of 'dict' objects}\n",
      "        1    0.000    0.000    0.000    0.000 {method 'values' of 'dict' objects}\n",
      "\n",
      "\n"
     ]
    }
   ],
   "source": [
    "mylsh = lsh.LSHMinHash_nonp(mentions=mentions_scaled, shingle_size=3, signature_size=200, n_buckets=2)\n",
    "cProfile.run(\"mylsh.cluster()\")"
   ]
  },
  {
   "cell_type": "code",
   "execution_count": 5,
   "metadata": {},
   "outputs": [
    {
     "name": "stdout",
     "output_type": "stream",
     "text": [
      "         214290 function calls (200381 primitive calls) in 0.397 seconds\n",
      "\n",
      "   Ordered by: standard name\n",
      "\n",
      "   ncalls  tottime  percall  cumtime  percall filename:lineno(function)\n",
      "      100    0.000    0.000    0.003    0.000 <__array_function__ internals>:2(argsort)\n",
      "      101    0.000    0.000    0.026    0.000 <__array_function__ internals>:2(array_split)\n",
      "      103    0.000    0.000    0.001    0.000 <__array_function__ internals>:2(concatenate)\n",
      "      100    0.000    0.000    0.000    0.000 <__array_function__ internals>:2(copyto)\n",
      "      200    0.000    0.000    0.001    0.000 <__array_function__ internals>:2(cumsum)\n",
      "      100    0.000    0.000    0.001    0.000 <__array_function__ internals>:2(diff)\n",
      "      200    0.000    0.000    0.000    0.000 <__array_function__ internals>:2(empty_like)\n",
      "      200    0.000    0.000    0.000    0.000 <__array_function__ internals>:2(fliplr)\n",
      "      200    0.000    0.000    0.000    0.000 <__array_function__ internals>:2(ndim)\n",
      "      100    0.000    0.000    0.000    0.000 <__array_function__ internals>:2(nonzero)\n",
      "      101    0.000    0.000    0.026    0.000 <__array_function__ internals>:2(split)\n",
      "        2    0.000    0.000    0.002    0.001 <__array_function__ internals>:2(stack)\n",
      "    14003    0.004    0.000    0.017    0.000 <__array_function__ internals>:2(swapaxes)\n",
      "      100    0.000    0.000    0.001    0.000 <__array_function__ internals>:2(tile)\n",
      "        1    0.000    0.000    0.397    0.397 <string>:1(<module>)\n",
      "     1370    0.000    0.000    0.000    0.000 _asarray.py:86(asanyarray)\n",
      "        2    0.000    0.000    0.000    0.000 _ufunc_config.py:132(geterr)\n",
      "        2    0.000    0.000    0.000    0.000 _ufunc_config.py:32(seterr)\n",
      "        1    0.000    0.000    0.000    0.000 _ufunc_config.py:433(__enter__)\n",
      "        1    0.000    0.000    0.000    0.000 _ufunc_config.py:438(__exit__)\n",
      "        2    0.000    0.000    0.000    0.000 _weakrefset.py:16(__init__)\n",
      "        2    0.000    0.000    0.000    0.000 _weakrefset.py:20(__enter__)\n",
      "        2    0.000    0.000    0.000    0.000 _weakrefset.py:26(__exit__)\n",
      "        2    0.000    0.000    0.000    0.000 _weakrefset.py:52(_commit_removals)\n",
      "        4    0.000    0.000    0.000    0.000 _weakrefset.py:58(__iter__)\n",
      "        6    0.000    0.000    0.000    0.000 _weakrefset.py:70(__contains__)\n",
      "        2    0.000    0.000    0.000    0.000 _weakrefset.py:81(add)\n",
      "        1    0.000    0.000    0.000    0.000 abc.py:180(__instancecheck__)\n",
      "      2/1    0.000    0.000    0.000    0.000 abc.py:196(__subclasscheck__)\n",
      "        1    0.000    0.000    0.000    0.000 contextlib.py:36(_recreate_cm)\n",
      "        1    0.000    0.000    0.000    0.000 contextlib.py:49(inner)\n",
      "      100    0.000    0.000    0.000    0.000 fromnumeric.py:1812(_nonzero_dispatcher)\n",
      "      100    0.000    0.000    0.000    0.000 fromnumeric.py:1816(nonzero)\n",
      "      200    0.000    0.000    0.000    0.000 fromnumeric.py:2414(_cumsum_dispatcher)\n",
      "      200    0.000    0.000    0.001    0.000 fromnumeric.py:2418(cumsum)\n",
      "      200    0.000    0.000    0.000    0.000 fromnumeric.py:3071(_ndim_dispatcher)\n",
      "      200    0.000    0.000    0.000    0.000 fromnumeric.py:3075(ndim)\n",
      "    14403    0.003    0.000    0.011    0.000 fromnumeric.py:52(_wrapfunc)\n",
      "    14003    0.001    0.000    0.001    0.000 fromnumeric.py:546(_swapaxes_dispatcher)\n",
      "    14003    0.003    0.000    0.009    0.000 fromnumeric.py:550(swapaxes)\n",
      "      100    0.000    0.000    0.000    0.000 fromnumeric.py:995(_argsort_dispatcher)\n",
      "      100    0.000    0.000    0.003    0.000 fromnumeric.py:999(argsort)\n",
      "      100    0.000    0.000    0.000    0.000 function_base.py:1148(_diff_dispatcher)\n",
      "      100    0.000    0.000    0.001    0.000 function_base.py:1152(diff)\n",
      "        1    0.044    0.044    0.046    0.046 lsh.py:217(encode_to_np)\n",
      "        1    0.001    0.001    0.188    0.188 lsh.py:230(make_signature)\n",
      "        1    0.034    0.034    0.161    0.161 lsh.py:261(get_candidates)\n",
      "        1    0.000    0.000    0.000    0.000 lsh.py:265(<dictcomp>)\n",
      "      100    0.001    0.000    0.001    0.000 lsh.py:269(<listcomp>)\n",
      "        1    0.023    0.023    0.060    0.060 lsh.py:275(<dictcomp>)\n",
      "      870    0.037    0.000    0.037    0.000 lsh.py:275(<listcomp>)\n",
      "        1    0.000    0.000    0.397    0.397 lsh.py:279(cluster)\n",
      "      100    0.028    0.000    0.031    0.000 lsh.py:31(cols_to_int)\n",
      "      100    0.000    0.000    0.000    0.000 lsh.py:39(<listcomp>)\n",
      "      100    0.001    0.000    0.063    0.001 lsh.py:48(idx_unique_multidim)\n",
      "        1    0.000    0.000    0.000    0.000 lsh.py:67(_build_vocab)\n",
      "        1    0.000    0.000    0.000    0.000 lsh.py:68(<listcomp>)\n",
      "        1    0.000    0.000    0.000    0.000 lsh.py:69(<listcomp>)\n",
      "      100    0.000    0.000    0.000    0.000 multiarray.py:1043(copyto)\n",
      "      103    0.000    0.000    0.000    0.000 multiarray.py:143(concatenate)\n",
      "      200    0.000    0.000    0.000    0.000 multiarray.py:75(empty_like)\n",
      "      100    0.000    0.000    0.000    0.000 numeric.py:144(ones)\n",
      "      100    0.000    0.000    0.000    0.000 shape_base.py:1167(_tile_dispatcher)\n",
      "      100    0.000    0.000    0.001    0.000 shape_base.py:1171(tile)\n",
      "      200    0.000    0.000    0.000    0.000 shape_base.py:1243(<genexpr>)\n",
      "      300    0.000    0.000    0.000    0.000 shape_base.py:1253(<genexpr>)\n",
      "        2    0.000    0.000    0.000    0.000 shape_base.py:208(_arrays_for_stack_dispatcher)\n",
      "        2    0.000    0.000    0.000    0.000 shape_base.py:349(_stack_dispatcher)\n",
      "        2    0.000    0.000    0.001    0.001 shape_base.py:358(stack)\n",
      "        2    0.000    0.000    0.000    0.000 shape_base.py:421(<listcomp>)\n",
      "        2    0.000    0.000    0.000    0.000 shape_base.py:425(<setcomp>)\n",
      "        2    0.000    0.000    0.000    0.000 shape_base.py:433(<listcomp>)\n",
      "      101    0.000    0.000    0.000    0.000 shape_base.py:735(_array_split_dispatcher)\n",
      "      101    0.008    0.000    0.026    0.000 shape_base.py:739(array_split)\n",
      "      101    0.000    0.000    0.000    0.000 shape_base.py:795(_split_dispatcher)\n",
      "      101    0.000    0.000    0.026    0.000 shape_base.py:799(split)\n",
      "      200    0.000    0.000    0.000    0.000 twodim_base.py:42(_flip_dispatcher)\n",
      "      200    0.000    0.000    0.000    0.000 twodim_base.py:46(fliplr)\n",
      "      100    0.000    0.000    0.000    0.000 {built-in method builtins.all}\n",
      "        1    0.000    0.000    0.000    0.000 {built-in method builtins.divmod}\n",
      "        1    0.000    0.000    0.397    0.397 {built-in method builtins.exec}\n",
      "    14405    0.001    0.000    0.001    0.000 {built-in method builtins.getattr}\n",
      "        2    0.000    0.000    0.000    0.000 {built-in method builtins.hasattr}\n",
      "      3/1    0.000    0.000    0.000    0.000 {built-in method builtins.issubclass}\n",
      "      405    0.000    0.000    0.000    0.000 {built-in method builtins.len}\n",
      "      870    0.001    0.000    0.001    0.000 {built-in method numpy.arange}\n",
      "     1471    0.000    0.000    0.000    0.000 {built-in method numpy.array}\n",
      "15610/1704    0.006    0.000    0.036    0.000 {built-in method numpy.core._multiarray_umath.implement_array_function}\n",
      "      102    0.000    0.000    0.000    0.000 {built-in method numpy.core._multiarray_umath.normalize_axis_index}\n",
      "      100    0.000    0.000    0.000    0.000 {built-in method numpy.empty}\n",
      "        4    0.000    0.000    0.000    0.000 {built-in method numpy.geterrobj}\n",
      "        2    0.000    0.000    0.000    0.000 {built-in method numpy.seterrobj}\n",
      "      870    0.001    0.000    0.001    0.000 {built-in method numpy.zeros}\n",
      "        2    0.000    0.000    0.000    0.000 {built-in method time.time}\n",
      "        2    0.000    0.000    0.000    0.000 {method '__subclasses__' of 'type' objects}\n",
      "        2    0.000    0.000    0.000    0.000 {method '__subclasshook__' of 'object' objects}\n",
      "        4    0.000    0.000    0.000    0.000 {method 'add' of 'set' objects}\n",
      "   101002    0.004    0.000    0.004    0.000 {method 'append' of 'list' objects}\n",
      "      200    0.023    0.000    0.023    0.000 {method 'argmax' of 'numpy.ndarray' objects}\n",
      "      100    0.003    0.000    0.003    0.000 {method 'argsort' of 'numpy.ndarray' objects}\n",
      "      201    0.001    0.000    0.001    0.000 {method 'cumsum' of 'numpy.ndarray' objects}\n",
      "        1    0.000    0.000    0.000    0.000 {method 'disable' of '_lsprof.Profiler' objects}\n",
      "        2    0.000    0.000    0.000    0.000 {method 'items' of 'dict' objects}\n",
      "        1    0.000    0.000    0.000    0.000 {method 'keys' of 'dict' objects}\n",
      "      100    0.000    0.000    0.000    0.000 {method 'nonzero' of 'numpy.ndarray' objects}\n",
      "        2    0.000    0.000    0.000    0.000 {method 'remove' of 'set' objects}\n",
      "      100    0.000    0.000    0.000    0.000 {method 'repeat' of 'numpy.ndarray' objects}\n",
      "      200    0.000    0.000    0.000    0.000 {method 'reshape' of 'numpy.ndarray' objects}\n",
      "      200    0.163    0.001    0.164    0.001 {method 'shuffle' of 'numpy.random._generator.Generator' objects}\n",
      "      100    0.000    0.000    0.000    0.000 {method 'squeeze' of 'numpy.ndarray' objects}\n",
      "    14003    0.003    0.000    0.003    0.000 {method 'swapaxes' of 'numpy.ndarray' objects}\n",
      "        2    0.000    0.000    0.000    0.000 {method 'values' of 'dict' objects}\n",
      "        1    0.000    0.000    0.000    0.000 {numpy.random._generator.default_rng}\n",
      "\n",
      "\n"
     ]
    }
   ],
   "source": [
    "mylsh = lsh.LSHMinHash(mentions=mentions_scaled, shingle_size=2, signature_size=200, band_length=2)\n",
    "\n",
    "cProfile.run(\"mylsh.cluster()\")"
   ]
  },
  {
   "cell_type": "code",
   "execution_count": null,
   "metadata": {},
   "outputs": [],
   "source": [
    "# trying out different configs \n",
    "    # --> it seems as soon as shingle size > 2 or band_length > 2, some candidates are missed. is this a feature or a bug?\n",
    "mylsh = lsh.LSHMinHash(mentions=mentions_scaled, shingle_size=2, signature_size=50, band_length=2)\n",
    "\n",
    "mylsh.cluster()\n",
    "mylsh.summarise()\n",
    "pairs = {mention: [mentions_scaled[i] for i in mylsh.candidates[idx]]  for idx, mention in mentions_scaled.items()}\n",
    "\n",
    "pairs "
   ]
  },
  {
   "attachments": {},
   "cell_type": "markdown",
   "metadata": {},
   "source": [
    "#### Time analysis for sorting multidimensional array along one axis"
   ]
  },
  {
   "cell_type": "code",
   "execution_count": null,
   "metadata": {},
   "outputs": [],
   "source": [
    "# keep this for some time analysis\n",
    "    # mult before sort -- adapt from the now helper function cols_to_int\n",
    "x = np.array([[0, 3], [2, 2], [2, 2], [0, 3]]) \n",
    "x = np.array([[1, 3], [2, 2], [2, 2], [1, 3], [1, 5], [1, 1]]) # this is one test case\n",
    "A = np.array([[3,4], [3,5], [5,6], [3,4], [6,7]]) # this is another test case\n",
    "\n",
    "display(A)\n",
    "display(np.argsort(A, axis=0))\n",
    "display(A.view('i8,i8').argsort(order=['f1'], axis=0))\n",
    "\n",
    "display(x)\n",
    "display(np.argsort(x, axis=0))\n",
    "display(x.view('i8,i8').argsort(order=['f1'], axis=0))\n",
    "\n",
    "\n",
    "n = 100_000\n",
    "A = np.random.choice(np.arange(int(n/100)), size=(n,2))\n",
    "%timeit np.argsort(A, axis=0)\n",
    "%timeit A.view('i8,i8').argsort(order=['f1'], axis=0)\n",
    "%timeit mult_before_sort(A)"
   ]
  }
 ],
 "metadata": {
  "kernelspec": {
   "display_name": "Python 3",
   "language": "python",
   "name": "python3"
  },
  "language_info": {
   "codemirror_mode": {
    "name": "ipython",
    "version": 3
   },
   "file_extension": ".py",
   "mimetype": "text/x-python",
   "name": "python",
   "nbconvert_exporter": "python",
   "pygments_lexer": "ipython3",
   "version": "3.6.13"
  },
  "orig_nbformat": 4,
  "vscode": {
   "interpreter": {
    "hash": "541f9b2bd2e07a99fbe19519917a2a847d7149d43292ee48064a4037dd0b7699"
   }
  }
 },
 "nbformat": 4,
 "nbformat_minor": 2
}
